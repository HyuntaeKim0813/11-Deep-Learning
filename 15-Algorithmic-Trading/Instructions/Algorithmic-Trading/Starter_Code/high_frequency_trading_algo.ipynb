{
 "cells": [
  {
   "cell_type": "markdown",
   "metadata": {},
   "source": [
    "# High Frequency Trading Algorithm\n",
    "\n",
    "You have been tasked by the investment firm Renaissance High Frequency Trading (RHFT) to develop an automated trading strategy utilizing a combination of machine learning algorithms and high frequency algorithms. RHFT wants this new algorithm to be based on stock market data of the 30 stocks in the Dow Jones at the minute level and to conduct buys and sells every minute based on 1 min, 5 min, and 10 min Momentum. The CIO asked you to choose the Machine Learning Algorithm best suited for this task and wants you to execute the trades via Alpaca's API."
   ]
  },
  {
   "cell_type": "markdown",
   "metadata": {},
   "source": [
    "### Initial Set-Up"
   ]
  },
  {
   "cell_type": "code",
   "execution_count": 2,
   "metadata": {},
   "outputs": [],
   "source": [
    "import os\n",
    "from pathlib import Path\n",
    "import alpaca_trade_api as tradeapi\n",
    "import pandas as pd\n",
    "import numpy as np\n",
    "import datetime\n",
    "import time\n",
    "from dotenv import load_dotenv"
   ]
  },
  {
   "cell_type": "code",
   "execution_count": 1,
   "metadata": {},
   "outputs": [
    {
     "name": "stdout",
     "output_type": "stream",
     "text": [
      "Collecting alpaca_trade_api\n",
      "  Using cached alpaca_trade_api-1.1.0-py3-none-any.whl (39 kB)\n",
      "Requirement already satisfied: urllib3<2,>1.24 in c:\\users\\hyunt\\anaconda3\\envs\\pyvizenv\\lib\\site-packages (from alpaca_trade_api) (1.25.11)\n",
      "Requirement already satisfied: websocket-client<1,>=0.56.0 in c:\\users\\hyunt\\anaconda3\\envs\\pyvizenv\\lib\\site-packages (from alpaca_trade_api) (0.58.0)\n",
      "Requirement already satisfied: websockets<9,>=8.0 in c:\\users\\hyunt\\anaconda3\\envs\\pyvizenv\\lib\\site-packages (from alpaca_trade_api) (8.1)\n",
      "Requirement already satisfied: msgpack==1.0.2 in c:\\users\\hyunt\\anaconda3\\envs\\pyvizenv\\lib\\site-packages (from alpaca_trade_api) (1.0.2)\n",
      "Requirement already satisfied: pandas in c:\\users\\hyunt\\anaconda3\\envs\\pyvizenv\\lib\\site-packages (from alpaca_trade_api) (0.24.2)\n",
      "Requirement already satisfied: requests<3,>2 in c:\\users\\hyunt\\anaconda3\\envs\\pyvizenv\\lib\\site-packages (from alpaca_trade_api) (2.24.0)\n",
      "Requirement already satisfied: numpy in c:\\users\\hyunt\\anaconda3\\envs\\pyvizenv\\lib\\site-packages (from alpaca_trade_api) (1.17.0)\n",
      "Requirement already satisfied: six in c:\\users\\hyunt\\anaconda3\\envs\\pyvizenv\\lib\\site-packages (from websocket-client<1,>=0.56.0->alpaca_trade_api) (1.15.0)\n",
      "Requirement already satisfied: python-dateutil>=2.5.0 in c:\\users\\hyunt\\anaconda3\\envs\\pyvizenv\\lib\\site-packages (from pandas->alpaca_trade_api) (2.8.1)\n",
      "Requirement already satisfied: pytz>=2011k in c:\\users\\hyunt\\anaconda3\\envs\\pyvizenv\\lib\\site-packages (from pandas->alpaca_trade_api) (2020.1)\n",
      "Requirement already satisfied: chardet<4,>=3.0.2 in c:\\users\\hyunt\\anaconda3\\envs\\pyvizenv\\lib\\site-packages (from requests<3,>2->alpaca_trade_api) (3.0.4)\n",
      "Requirement already satisfied: idna<3,>=2.5 in c:\\users\\hyunt\\anaconda3\\envs\\pyvizenv\\lib\\site-packages (from requests<3,>2->alpaca_trade_api) (2.10)\n",
      "Requirement already satisfied: certifi>=2017.4.17 in c:\\users\\hyunt\\anaconda3\\envs\\pyvizenv\\lib\\site-packages (from requests<3,>2->alpaca_trade_api) (2020.12.5)\n",
      "Installing collected packages: alpaca-trade-api\n",
      "Successfully installed alpaca-trade-api-1.1.0\n"
     ]
    }
   ],
   "source": [
    "!pip install alpaca_trade_api"
   ]
  },
  {
   "cell_type": "code",
   "execution_count": 3,
   "metadata": {},
   "outputs": [
    {
     "data": {
      "text/plain": [
       "True"
      ]
     },
     "execution_count": 3,
     "metadata": {},
     "output_type": "execute_result"
    }
   ],
   "source": [
    "# Load .env enviroment variables\n",
    "# YOUR CODE HERE\n",
    "load_dotenv('key.env')"
   ]
  },
  {
   "cell_type": "code",
   "execution_count": 4,
   "metadata": {},
   "outputs": [],
   "source": [
    "# Set Alpaca API key and secret\n",
    "# YOUR CODE HERE\n",
    "alpaca_api_key = os.getenv(\"ALPACA_API_KEY\")\n",
    "alpaca_secret_key = os.getenv(\"ALPACA_SECRET_KEY\")"
   ]
  },
  {
   "cell_type": "code",
   "execution_count": 5,
   "metadata": {},
   "outputs": [],
   "source": [
    "# Create the Alpaca API object, specifying use of the paper trading account:\n",
    "# YOUR CODE HERE\n",
    "api = tradeapi.REST(\n",
    "    alpaca_api_key,\n",
    "    alpaca_secret_key,\n",
    "    api_version=\"v2\")"
   ]
  },
  {
   "cell_type": "markdown",
   "metadata": {},
   "source": [
    "## Part 2: Train and Compare Multiple Machine Learning Algorithms\n",
    "\n",
    " In this section, you'll train each of the requested algorithms and compare performance. Be sure to use the same parameters and training steps for each model. This is necessary to compare each model accurately.\n",
    "\n",
    "### Preprocessing Data\n",
    "\n",
    "#### 1. Generate your feature data (`X`) and target data (`y`):\n",
    "* Create a dataframe `X` that contains all the columns from the returns dataframe that will be used to predict `F_1_m_returns`.\n",
    "* Create a variable, called `y`, that is equal 1 if `F_1_m_returns` is larger than 0. This will be our target variable."
   ]
  },
  {
   "cell_type": "code",
   "execution_count": 8,
   "metadata": {},
   "outputs": [
    {
     "data": {
      "text/html": [
       "<div>\n",
       "<style scoped>\n",
       "    .dataframe tbody tr th:only-of-type {\n",
       "        vertical-align: middle;\n",
       "    }\n",
       "\n",
       "    .dataframe tbody tr th {\n",
       "        vertical-align: top;\n",
       "    }\n",
       "\n",
       "    .dataframe thead th {\n",
       "        text-align: right;\n",
       "    }\n",
       "</style>\n",
       "<table border=\"1\" class=\"dataframe\">\n",
       "  <thead>\n",
       "    <tr style=\"text-align: right;\">\n",
       "      <th></th>\n",
       "      <th>level_0</th>\n",
       "      <th>level_1</th>\n",
       "      <th>F_1_m_returns</th>\n",
       "      <th>1_m_returns</th>\n",
       "      <th>5_m_returns</th>\n",
       "      <th>10_m_returns</th>\n",
       "    </tr>\n",
       "  </thead>\n",
       "  <tbody>\n",
       "    <tr>\n",
       "      <th>0</th>\n",
       "      <td>FB</td>\n",
       "      <td>2021-01-05 09:40:00-05:00</td>\n",
       "      <td>0.000814</td>\n",
       "      <td>0.000074</td>\n",
       "      <td>0.001260</td>\n",
       "      <td>0.004758</td>\n",
       "    </tr>\n",
       "    <tr>\n",
       "      <th>1</th>\n",
       "      <td>FB</td>\n",
       "      <td>2021-01-05 09:41:00-05:00</td>\n",
       "      <td>0.000887</td>\n",
       "      <td>0.000814</td>\n",
       "      <td>0.001889</td>\n",
       "      <td>0.004941</td>\n",
       "    </tr>\n",
       "    <tr>\n",
       "      <th>2</th>\n",
       "      <td>FB</td>\n",
       "      <td>2021-01-05 09:42:00-05:00</td>\n",
       "      <td>0.000628</td>\n",
       "      <td>0.000887</td>\n",
       "      <td>0.001999</td>\n",
       "      <td>0.003782</td>\n",
       "    </tr>\n",
       "    <tr>\n",
       "      <th>3</th>\n",
       "      <td>FB</td>\n",
       "      <td>2021-01-05 09:43:00-05:00</td>\n",
       "      <td>0.000480</td>\n",
       "      <td>0.000628</td>\n",
       "      <td>0.003408</td>\n",
       "      <td>0.007850</td>\n",
       "    </tr>\n",
       "    <tr>\n",
       "      <th>4</th>\n",
       "      <td>FB</td>\n",
       "      <td>2021-01-05 09:44:00-05:00</td>\n",
       "      <td>-0.001291</td>\n",
       "      <td>0.000480</td>\n",
       "      <td>0.002886</td>\n",
       "      <td>0.005416</td>\n",
       "    </tr>\n",
       "    <tr>\n",
       "      <th>5</th>\n",
       "      <td>FB</td>\n",
       "      <td>2021-01-05 09:45:00-05:00</td>\n",
       "      <td>-0.000961</td>\n",
       "      <td>-0.001291</td>\n",
       "      <td>0.001517</td>\n",
       "      <td>0.002778</td>\n",
       "    </tr>\n",
       "    <tr>\n",
       "      <th>6</th>\n",
       "      <td>FB</td>\n",
       "      <td>2021-01-05 09:46:00-05:00</td>\n",
       "      <td>-0.000444</td>\n",
       "      <td>-0.000961</td>\n",
       "      <td>-0.000259</td>\n",
       "      <td>0.001630</td>\n",
       "    </tr>\n",
       "    <tr>\n",
       "      <th>7</th>\n",
       "      <td>FB</td>\n",
       "      <td>2021-01-05 09:47:00-05:00</td>\n",
       "      <td>0.001961</td>\n",
       "      <td>-0.000444</td>\n",
       "      <td>-0.001588</td>\n",
       "      <td>0.000407</td>\n",
       "    </tr>\n",
       "    <tr>\n",
       "      <th>8</th>\n",
       "      <td>FB</td>\n",
       "      <td>2021-01-05 09:48:00-05:00</td>\n",
       "      <td>0.000480</td>\n",
       "      <td>0.001961</td>\n",
       "      <td>-0.000258</td>\n",
       "      <td>0.003148</td>\n",
       "    </tr>\n",
       "    <tr>\n",
       "      <th>9</th>\n",
       "      <td>FB</td>\n",
       "      <td>2021-01-05 09:49:00-05:00</td>\n",
       "      <td>0.001993</td>\n",
       "      <td>0.000480</td>\n",
       "      <td>-0.000258</td>\n",
       "      <td>0.002627</td>\n",
       "    </tr>\n",
       "    <tr>\n",
       "      <th>10</th>\n",
       "      <td>FB</td>\n",
       "      <td>2021-01-05 09:50:00-05:00</td>\n",
       "      <td>0.000460</td>\n",
       "      <td>0.001993</td>\n",
       "      <td>0.003029</td>\n",
       "      <td>0.004551</td>\n",
       "    </tr>\n",
       "    <tr>\n",
       "      <th>11</th>\n",
       "      <td>FB</td>\n",
       "      <td>2021-01-05 09:51:00-05:00</td>\n",
       "      <td>0.001270</td>\n",
       "      <td>0.000460</td>\n",
       "      <td>0.004456</td>\n",
       "      <td>0.004196</td>\n",
       "    </tr>\n",
       "    <tr>\n",
       "      <th>12</th>\n",
       "      <td>FB</td>\n",
       "      <td>2021-01-05 09:52:00-05:00</td>\n",
       "      <td>-0.000368</td>\n",
       "      <td>0.001270</td>\n",
       "      <td>0.006178</td>\n",
       "      <td>0.004580</td>\n",
       "    </tr>\n",
       "    <tr>\n",
       "      <th>13</th>\n",
       "      <td>FB</td>\n",
       "      <td>2021-01-05 09:53:00-05:00</td>\n",
       "      <td>0.000405</td>\n",
       "      <td>-0.000368</td>\n",
       "      <td>0.003840</td>\n",
       "      <td>0.003581</td>\n",
       "    </tr>\n",
       "    <tr>\n",
       "      <th>14</th>\n",
       "      <td>FB</td>\n",
       "      <td>2021-01-05 09:54:00-05:00</td>\n",
       "      <td>-0.000882</td>\n",
       "      <td>0.000405</td>\n",
       "      <td>0.003764</td>\n",
       "      <td>0.003505</td>\n",
       "    </tr>\n",
       "    <tr>\n",
       "      <th>15</th>\n",
       "      <td>FB</td>\n",
       "      <td>2021-01-05 09:55:00-05:00</td>\n",
       "      <td>0.000221</td>\n",
       "      <td>-0.000882</td>\n",
       "      <td>0.000884</td>\n",
       "      <td>0.003916</td>\n",
       "    </tr>\n",
       "    <tr>\n",
       "      <th>16</th>\n",
       "      <td>FB</td>\n",
       "      <td>2021-01-05 09:56:00-05:00</td>\n",
       "      <td>-0.000993</td>\n",
       "      <td>0.000221</td>\n",
       "      <td>0.000644</td>\n",
       "      <td>0.005103</td>\n",
       "    </tr>\n",
       "    <tr>\n",
       "      <th>17</th>\n",
       "      <td>FB</td>\n",
       "      <td>2021-01-05 09:57:00-05:00</td>\n",
       "      <td>0.000405</td>\n",
       "      <td>-0.000993</td>\n",
       "      <td>-0.001618</td>\n",
       "      <td>0.004550</td>\n",
       "    </tr>\n",
       "    <tr>\n",
       "      <th>18</th>\n",
       "      <td>FB</td>\n",
       "      <td>2021-01-05 09:58:00-05:00</td>\n",
       "      <td>0.000037</td>\n",
       "      <td>0.000405</td>\n",
       "      <td>-0.000846</td>\n",
       "      <td>0.002991</td>\n",
       "    </tr>\n",
       "    <tr>\n",
       "      <th>19</th>\n",
       "      <td>FB</td>\n",
       "      <td>2021-01-05 09:59:00-05:00</td>\n",
       "      <td>-0.000847</td>\n",
       "      <td>0.000037</td>\n",
       "      <td>-0.001213</td>\n",
       "      <td>0.002546</td>\n",
       "    </tr>\n",
       "    <tr>\n",
       "      <th>20</th>\n",
       "      <td>FB</td>\n",
       "      <td>2021-01-05 10:00:00-05:00</td>\n",
       "      <td>-0.001768</td>\n",
       "      <td>-0.000847</td>\n",
       "      <td>-0.001178</td>\n",
       "      <td>-0.000295</td>\n",
       "    </tr>\n",
       "    <tr>\n",
       "      <th>21</th>\n",
       "      <td>FB</td>\n",
       "      <td>2021-01-05 10:01:00-05:00</td>\n",
       "      <td>-0.000923</td>\n",
       "      <td>-0.001768</td>\n",
       "      <td>-0.003164</td>\n",
       "      <td>-0.002522</td>\n",
       "    </tr>\n",
       "    <tr>\n",
       "      <th>22</th>\n",
       "      <td>FB</td>\n",
       "      <td>2021-01-05 10:02:00-05:00</td>\n",
       "      <td>0.001256</td>\n",
       "      <td>-0.000923</td>\n",
       "      <td>-0.003093</td>\n",
       "      <td>-0.004706</td>\n",
       "    </tr>\n",
       "    <tr>\n",
       "      <th>23</th>\n",
       "      <td>FB</td>\n",
       "      <td>2021-01-05 10:03:00-05:00</td>\n",
       "      <td>0.001420</td>\n",
       "      <td>0.001256</td>\n",
       "      <td>-0.002246</td>\n",
       "      <td>-0.003090</td>\n",
       "    </tr>\n",
       "    <tr>\n",
       "      <th>24</th>\n",
       "      <td>FB</td>\n",
       "      <td>2021-01-05 10:04:00-05:00</td>\n",
       "      <td>-0.000939</td>\n",
       "      <td>0.001420</td>\n",
       "      <td>-0.000865</td>\n",
       "      <td>-0.002077</td>\n",
       "    </tr>\n",
       "    <tr>\n",
       "      <th>25</th>\n",
       "      <td>FB</td>\n",
       "      <td>2021-01-05 10:05:00-05:00</td>\n",
       "      <td>-0.000332</td>\n",
       "      <td>-0.000939</td>\n",
       "      <td>-0.000958</td>\n",
       "      <td>-0.002134</td>\n",
       "    </tr>\n",
       "    <tr>\n",
       "      <th>26</th>\n",
       "      <td>FB</td>\n",
       "      <td>2021-01-05 10:06:00-05:00</td>\n",
       "      <td>0.000148</td>\n",
       "      <td>-0.000332</td>\n",
       "      <td>0.000480</td>\n",
       "      <td>-0.002686</td>\n",
       "    </tr>\n",
       "    <tr>\n",
       "      <th>27</th>\n",
       "      <td>FB</td>\n",
       "      <td>2021-01-05 10:07:00-05:00</td>\n",
       "      <td>0.002988</td>\n",
       "      <td>0.000148</td>\n",
       "      <td>0.001552</td>\n",
       "      <td>-0.001547</td>\n",
       "    </tr>\n",
       "    <tr>\n",
       "      <th>28</th>\n",
       "      <td>FB</td>\n",
       "      <td>2021-01-05 10:08:00-05:00</td>\n",
       "      <td>-0.001140</td>\n",
       "      <td>0.002988</td>\n",
       "      <td>0.003284</td>\n",
       "      <td>0.001031</td>\n",
       "    </tr>\n",
       "    <tr>\n",
       "      <th>29</th>\n",
       "      <td>FB</td>\n",
       "      <td>2021-01-05 10:09:00-05:00</td>\n",
       "      <td>0.001252</td>\n",
       "      <td>-0.001140</td>\n",
       "      <td>0.000718</td>\n",
       "      <td>-0.000147</td>\n",
       "    </tr>\n",
       "    <tr>\n",
       "      <th>...</th>\n",
       "      <td>...</td>\n",
       "      <td>...</td>\n",
       "      <td>...</td>\n",
       "      <td>...</td>\n",
       "      <td>...</td>\n",
       "      <td>...</td>\n",
       "    </tr>\n",
       "    <tr>\n",
       "      <th>2630</th>\n",
       "      <td>TSLA</td>\n",
       "      <td>2021-01-05 15:30:00-05:00</td>\n",
       "      <td>0.000774</td>\n",
       "      <td>0.000347</td>\n",
       "      <td>0.001027</td>\n",
       "      <td>0.000551</td>\n",
       "    </tr>\n",
       "    <tr>\n",
       "      <th>2631</th>\n",
       "      <td>TSLA</td>\n",
       "      <td>2021-01-05 15:31:00-05:00</td>\n",
       "      <td>0.000007</td>\n",
       "      <td>0.000774</td>\n",
       "      <td>0.001965</td>\n",
       "      <td>0.002729</td>\n",
       "    </tr>\n",
       "    <tr>\n",
       "      <th>2632</th>\n",
       "      <td>TSLA</td>\n",
       "      <td>2021-01-05 15:32:00-05:00</td>\n",
       "      <td>-0.000400</td>\n",
       "      <td>0.000007</td>\n",
       "      <td>0.001380</td>\n",
       "      <td>0.002313</td>\n",
       "    </tr>\n",
       "    <tr>\n",
       "      <th>2633</th>\n",
       "      <td>TSLA</td>\n",
       "      <td>2021-01-05 15:33:00-05:00</td>\n",
       "      <td>-0.000469</td>\n",
       "      <td>-0.000400</td>\n",
       "      <td>0.000931</td>\n",
       "      <td>0.001639</td>\n",
       "    </tr>\n",
       "    <tr>\n",
       "      <th>2634</th>\n",
       "      <td>TSLA</td>\n",
       "      <td>2021-01-05 15:34:00-05:00</td>\n",
       "      <td>0.000190</td>\n",
       "      <td>-0.000469</td>\n",
       "      <td>0.000258</td>\n",
       "      <td>0.001347</td>\n",
       "    </tr>\n",
       "    <tr>\n",
       "      <th>2635</th>\n",
       "      <td>TSLA</td>\n",
       "      <td>2021-01-05 15:35:00-05:00</td>\n",
       "      <td>-0.001915</td>\n",
       "      <td>0.000190</td>\n",
       "      <td>0.000102</td>\n",
       "      <td>0.001129</td>\n",
       "    </tr>\n",
       "    <tr>\n",
       "      <th>2636</th>\n",
       "      <td>TSLA</td>\n",
       "      <td>2021-01-05 15:36:00-05:00</td>\n",
       "      <td>-0.000531</td>\n",
       "      <td>-0.001915</td>\n",
       "      <td>-0.002586</td>\n",
       "      <td>-0.000626</td>\n",
       "    </tr>\n",
       "    <tr>\n",
       "      <th>2637</th>\n",
       "      <td>TSLA</td>\n",
       "      <td>2021-01-05 15:37:00-05:00</td>\n",
       "      <td>0.000749</td>\n",
       "      <td>-0.000531</td>\n",
       "      <td>-0.003122</td>\n",
       "      <td>-0.001747</td>\n",
       "    </tr>\n",
       "    <tr>\n",
       "      <th>2638</th>\n",
       "      <td>TSLA</td>\n",
       "      <td>2021-01-05 15:38:00-05:00</td>\n",
       "      <td>-0.002544</td>\n",
       "      <td>0.000749</td>\n",
       "      <td>-0.001976</td>\n",
       "      <td>-0.001047</td>\n",
       "    </tr>\n",
       "    <tr>\n",
       "      <th>2639</th>\n",
       "      <td>TSLA</td>\n",
       "      <td>2021-01-05 15:39:00-05:00</td>\n",
       "      <td>-0.000218</td>\n",
       "      <td>-0.002544</td>\n",
       "      <td>-0.004049</td>\n",
       "      <td>-0.003792</td>\n",
       "    </tr>\n",
       "    <tr>\n",
       "      <th>2640</th>\n",
       "      <td>TSLA</td>\n",
       "      <td>2021-01-05 15:40:00-05:00</td>\n",
       "      <td>-0.000641</td>\n",
       "      <td>-0.000218</td>\n",
       "      <td>-0.004455</td>\n",
       "      <td>-0.004354</td>\n",
       "    </tr>\n",
       "    <tr>\n",
       "      <th>2641</th>\n",
       "      <td>TSLA</td>\n",
       "      <td>2021-01-05 15:41:00-05:00</td>\n",
       "      <td>0.000273</td>\n",
       "      <td>-0.000641</td>\n",
       "      <td>-0.003185</td>\n",
       "      <td>-0.005762</td>\n",
       "    </tr>\n",
       "    <tr>\n",
       "      <th>2642</th>\n",
       "      <td>TSLA</td>\n",
       "      <td>2021-01-05 15:42:00-05:00</td>\n",
       "      <td>0.001283</td>\n",
       "      <td>0.000273</td>\n",
       "      <td>-0.002383</td>\n",
       "      <td>-0.005498</td>\n",
       "    </tr>\n",
       "    <tr>\n",
       "      <th>2643</th>\n",
       "      <td>TSLA</td>\n",
       "      <td>2021-01-05 15:43:00-05:00</td>\n",
       "      <td>0.000382</td>\n",
       "      <td>0.001283</td>\n",
       "      <td>-0.001851</td>\n",
       "      <td>-0.003823</td>\n",
       "    </tr>\n",
       "    <tr>\n",
       "      <th>2644</th>\n",
       "      <td>TSLA</td>\n",
       "      <td>2021-01-05 15:44:00-05:00</td>\n",
       "      <td>-0.001049</td>\n",
       "      <td>0.000382</td>\n",
       "      <td>0.001078</td>\n",
       "      <td>-0.002975</td>\n",
       "    </tr>\n",
       "    <tr>\n",
       "      <th>2645</th>\n",
       "      <td>TSLA</td>\n",
       "      <td>2021-01-05 15:45:00-05:00</td>\n",
       "      <td>-0.000900</td>\n",
       "      <td>-0.001049</td>\n",
       "      <td>0.000246</td>\n",
       "      <td>-0.004211</td>\n",
       "    </tr>\n",
       "    <tr>\n",
       "      <th>2646</th>\n",
       "      <td>TSLA</td>\n",
       "      <td>2021-01-05 15:46:00-05:00</td>\n",
       "      <td>-0.001024</td>\n",
       "      <td>-0.000900</td>\n",
       "      <td>-0.000014</td>\n",
       "      <td>-0.003198</td>\n",
       "    </tr>\n",
       "    <tr>\n",
       "      <th>2647</th>\n",
       "      <td>TSLA</td>\n",
       "      <td>2021-01-05 15:47:00-05:00</td>\n",
       "      <td>0.000191</td>\n",
       "      <td>-0.001024</td>\n",
       "      <td>-0.001310</td>\n",
       "      <td>-0.003690</td>\n",
       "    </tr>\n",
       "    <tr>\n",
       "      <th>2648</th>\n",
       "      <td>TSLA</td>\n",
       "      <td>2021-01-05 15:48:00-05:00</td>\n",
       "      <td>-0.000109</td>\n",
       "      <td>0.000191</td>\n",
       "      <td>-0.002399</td>\n",
       "      <td>-0.004245</td>\n",
       "    </tr>\n",
       "    <tr>\n",
       "      <th>2649</th>\n",
       "      <td>TSLA</td>\n",
       "      <td>2021-01-05 15:49:00-05:00</td>\n",
       "      <td>0.000868</td>\n",
       "      <td>-0.000109</td>\n",
       "      <td>-0.002889</td>\n",
       "      <td>-0.001814</td>\n",
       "    </tr>\n",
       "    <tr>\n",
       "      <th>2650</th>\n",
       "      <td>TSLA</td>\n",
       "      <td>2021-01-05 15:50:00-05:00</td>\n",
       "      <td>0.000498</td>\n",
       "      <td>0.000868</td>\n",
       "      <td>-0.000975</td>\n",
       "      <td>-0.000730</td>\n",
       "    </tr>\n",
       "    <tr>\n",
       "      <th>2651</th>\n",
       "      <td>TSLA</td>\n",
       "      <td>2021-01-05 15:51:00-05:00</td>\n",
       "      <td>-0.001044</td>\n",
       "      <td>0.000498</td>\n",
       "      <td>0.000423</td>\n",
       "      <td>0.000410</td>\n",
       "    </tr>\n",
       "    <tr>\n",
       "      <th>2652</th>\n",
       "      <td>TSLA</td>\n",
       "      <td>2021-01-05 15:52:00-05:00</td>\n",
       "      <td>-0.000294</td>\n",
       "      <td>-0.001044</td>\n",
       "      <td>0.000403</td>\n",
       "      <td>-0.000908</td>\n",
       "    </tr>\n",
       "    <tr>\n",
       "      <th>2653</th>\n",
       "      <td>TSLA</td>\n",
       "      <td>2021-01-05 15:53:00-05:00</td>\n",
       "      <td>0.001544</td>\n",
       "      <td>-0.000294</td>\n",
       "      <td>-0.000082</td>\n",
       "      <td>-0.002481</td>\n",
       "    </tr>\n",
       "    <tr>\n",
       "      <th>2654</th>\n",
       "      <td>TSLA</td>\n",
       "      <td>2021-01-05 15:54:00-05:00</td>\n",
       "      <td>0.000437</td>\n",
       "      <td>0.001544</td>\n",
       "      <td>0.001572</td>\n",
       "      <td>-0.001322</td>\n",
       "    </tr>\n",
       "    <tr>\n",
       "      <th>2655</th>\n",
       "      <td>TSLA</td>\n",
       "      <td>2021-01-05 15:55:00-05:00</td>\n",
       "      <td>-0.000259</td>\n",
       "      <td>0.000437</td>\n",
       "      <td>0.001140</td>\n",
       "      <td>0.000164</td>\n",
       "    </tr>\n",
       "    <tr>\n",
       "      <th>2656</th>\n",
       "      <td>TSLA</td>\n",
       "      <td>2021-01-05 15:56:00-05:00</td>\n",
       "      <td>0.002033</td>\n",
       "      <td>-0.000259</td>\n",
       "      <td>0.000382</td>\n",
       "      <td>0.000806</td>\n",
       "    </tr>\n",
       "    <tr>\n",
       "      <th>2657</th>\n",
       "      <td>TSLA</td>\n",
       "      <td>2021-01-05 15:57:00-05:00</td>\n",
       "      <td>0.000463</td>\n",
       "      <td>0.002033</td>\n",
       "      <td>0.003463</td>\n",
       "      <td>0.003868</td>\n",
       "    </tr>\n",
       "    <tr>\n",
       "      <th>2658</th>\n",
       "      <td>TSLA</td>\n",
       "      <td>2021-01-05 15:58:00-05:00</td>\n",
       "      <td>0.000680</td>\n",
       "      <td>0.000463</td>\n",
       "      <td>0.004223</td>\n",
       "      <td>0.004140</td>\n",
       "    </tr>\n",
       "    <tr>\n",
       "      <th>2659</th>\n",
       "      <td>TSLA</td>\n",
       "      <td>2021-01-05 15:59:00-05:00</td>\n",
       "      <td>0.000000</td>\n",
       "      <td>0.000680</td>\n",
       "      <td>0.003357</td>\n",
       "      <td>0.004934</td>\n",
       "    </tr>\n",
       "  </tbody>\n",
       "</table>\n",
       "<p>2660 rows × 6 columns</p>\n",
       "</div>"
      ],
      "text/plain": [
       "     level_0                    level_1  F_1_m_returns  1_m_returns  \\\n",
       "0         FB  2021-01-05 09:40:00-05:00       0.000814     0.000074   \n",
       "1         FB  2021-01-05 09:41:00-05:00       0.000887     0.000814   \n",
       "2         FB  2021-01-05 09:42:00-05:00       0.000628     0.000887   \n",
       "3         FB  2021-01-05 09:43:00-05:00       0.000480     0.000628   \n",
       "4         FB  2021-01-05 09:44:00-05:00      -0.001291     0.000480   \n",
       "5         FB  2021-01-05 09:45:00-05:00      -0.000961    -0.001291   \n",
       "6         FB  2021-01-05 09:46:00-05:00      -0.000444    -0.000961   \n",
       "7         FB  2021-01-05 09:47:00-05:00       0.001961    -0.000444   \n",
       "8         FB  2021-01-05 09:48:00-05:00       0.000480     0.001961   \n",
       "9         FB  2021-01-05 09:49:00-05:00       0.001993     0.000480   \n",
       "10        FB  2021-01-05 09:50:00-05:00       0.000460     0.001993   \n",
       "11        FB  2021-01-05 09:51:00-05:00       0.001270     0.000460   \n",
       "12        FB  2021-01-05 09:52:00-05:00      -0.000368     0.001270   \n",
       "13        FB  2021-01-05 09:53:00-05:00       0.000405    -0.000368   \n",
       "14        FB  2021-01-05 09:54:00-05:00      -0.000882     0.000405   \n",
       "15        FB  2021-01-05 09:55:00-05:00       0.000221    -0.000882   \n",
       "16        FB  2021-01-05 09:56:00-05:00      -0.000993     0.000221   \n",
       "17        FB  2021-01-05 09:57:00-05:00       0.000405    -0.000993   \n",
       "18        FB  2021-01-05 09:58:00-05:00       0.000037     0.000405   \n",
       "19        FB  2021-01-05 09:59:00-05:00      -0.000847     0.000037   \n",
       "20        FB  2021-01-05 10:00:00-05:00      -0.001768    -0.000847   \n",
       "21        FB  2021-01-05 10:01:00-05:00      -0.000923    -0.001768   \n",
       "22        FB  2021-01-05 10:02:00-05:00       0.001256    -0.000923   \n",
       "23        FB  2021-01-05 10:03:00-05:00       0.001420     0.001256   \n",
       "24        FB  2021-01-05 10:04:00-05:00      -0.000939     0.001420   \n",
       "25        FB  2021-01-05 10:05:00-05:00      -0.000332    -0.000939   \n",
       "26        FB  2021-01-05 10:06:00-05:00       0.000148    -0.000332   \n",
       "27        FB  2021-01-05 10:07:00-05:00       0.002988     0.000148   \n",
       "28        FB  2021-01-05 10:08:00-05:00      -0.001140     0.002988   \n",
       "29        FB  2021-01-05 10:09:00-05:00       0.001252    -0.001140   \n",
       "...      ...                        ...            ...          ...   \n",
       "2630    TSLA  2021-01-05 15:30:00-05:00       0.000774     0.000347   \n",
       "2631    TSLA  2021-01-05 15:31:00-05:00       0.000007     0.000774   \n",
       "2632    TSLA  2021-01-05 15:32:00-05:00      -0.000400     0.000007   \n",
       "2633    TSLA  2021-01-05 15:33:00-05:00      -0.000469    -0.000400   \n",
       "2634    TSLA  2021-01-05 15:34:00-05:00       0.000190    -0.000469   \n",
       "2635    TSLA  2021-01-05 15:35:00-05:00      -0.001915     0.000190   \n",
       "2636    TSLA  2021-01-05 15:36:00-05:00      -0.000531    -0.001915   \n",
       "2637    TSLA  2021-01-05 15:37:00-05:00       0.000749    -0.000531   \n",
       "2638    TSLA  2021-01-05 15:38:00-05:00      -0.002544     0.000749   \n",
       "2639    TSLA  2021-01-05 15:39:00-05:00      -0.000218    -0.002544   \n",
       "2640    TSLA  2021-01-05 15:40:00-05:00      -0.000641    -0.000218   \n",
       "2641    TSLA  2021-01-05 15:41:00-05:00       0.000273    -0.000641   \n",
       "2642    TSLA  2021-01-05 15:42:00-05:00       0.001283     0.000273   \n",
       "2643    TSLA  2021-01-05 15:43:00-05:00       0.000382     0.001283   \n",
       "2644    TSLA  2021-01-05 15:44:00-05:00      -0.001049     0.000382   \n",
       "2645    TSLA  2021-01-05 15:45:00-05:00      -0.000900    -0.001049   \n",
       "2646    TSLA  2021-01-05 15:46:00-05:00      -0.001024    -0.000900   \n",
       "2647    TSLA  2021-01-05 15:47:00-05:00       0.000191    -0.001024   \n",
       "2648    TSLA  2021-01-05 15:48:00-05:00      -0.000109     0.000191   \n",
       "2649    TSLA  2021-01-05 15:49:00-05:00       0.000868    -0.000109   \n",
       "2650    TSLA  2021-01-05 15:50:00-05:00       0.000498     0.000868   \n",
       "2651    TSLA  2021-01-05 15:51:00-05:00      -0.001044     0.000498   \n",
       "2652    TSLA  2021-01-05 15:52:00-05:00      -0.000294    -0.001044   \n",
       "2653    TSLA  2021-01-05 15:53:00-05:00       0.001544    -0.000294   \n",
       "2654    TSLA  2021-01-05 15:54:00-05:00       0.000437     0.001544   \n",
       "2655    TSLA  2021-01-05 15:55:00-05:00      -0.000259     0.000437   \n",
       "2656    TSLA  2021-01-05 15:56:00-05:00       0.002033    -0.000259   \n",
       "2657    TSLA  2021-01-05 15:57:00-05:00       0.000463     0.002033   \n",
       "2658    TSLA  2021-01-05 15:58:00-05:00       0.000680     0.000463   \n",
       "2659    TSLA  2021-01-05 15:59:00-05:00       0.000000     0.000680   \n",
       "\n",
       "      5_m_returns  10_m_returns  \n",
       "0        0.001260      0.004758  \n",
       "1        0.001889      0.004941  \n",
       "2        0.001999      0.003782  \n",
       "3        0.003408      0.007850  \n",
       "4        0.002886      0.005416  \n",
       "5        0.001517      0.002778  \n",
       "6       -0.000259      0.001630  \n",
       "7       -0.001588      0.000407  \n",
       "8       -0.000258      0.003148  \n",
       "9       -0.000258      0.002627  \n",
       "10       0.003029      0.004551  \n",
       "11       0.004456      0.004196  \n",
       "12       0.006178      0.004580  \n",
       "13       0.003840      0.003581  \n",
       "14       0.003764      0.003505  \n",
       "15       0.000884      0.003916  \n",
       "16       0.000644      0.005103  \n",
       "17      -0.001618      0.004550  \n",
       "18      -0.000846      0.002991  \n",
       "19      -0.001213      0.002546  \n",
       "20      -0.001178     -0.000295  \n",
       "21      -0.003164     -0.002522  \n",
       "22      -0.003093     -0.004706  \n",
       "23      -0.002246     -0.003090  \n",
       "24      -0.000865     -0.002077  \n",
       "25      -0.000958     -0.002134  \n",
       "26       0.000480     -0.002686  \n",
       "27       0.001552     -0.001547  \n",
       "28       0.003284      0.001031  \n",
       "29       0.000718     -0.000147  \n",
       "...           ...           ...  \n",
       "2630     0.001027      0.000551  \n",
       "2631     0.001965      0.002729  \n",
       "2632     0.001380      0.002313  \n",
       "2633     0.000931      0.001639  \n",
       "2634     0.000258      0.001347  \n",
       "2635     0.000102      0.001129  \n",
       "2636    -0.002586     -0.000626  \n",
       "2637    -0.003122     -0.001747  \n",
       "2638    -0.001976     -0.001047  \n",
       "2639    -0.004049     -0.003792  \n",
       "2640    -0.004455     -0.004354  \n",
       "2641    -0.003185     -0.005762  \n",
       "2642    -0.002383     -0.005498  \n",
       "2643    -0.001851     -0.003823  \n",
       "2644     0.001078     -0.002975  \n",
       "2645     0.000246     -0.004211  \n",
       "2646    -0.000014     -0.003198  \n",
       "2647    -0.001310     -0.003690  \n",
       "2648    -0.002399     -0.004245  \n",
       "2649    -0.002889     -0.001814  \n",
       "2650    -0.000975     -0.000730  \n",
       "2651     0.000423      0.000410  \n",
       "2652     0.000403     -0.000908  \n",
       "2653    -0.000082     -0.002481  \n",
       "2654     0.001572     -0.001322  \n",
       "2655     0.001140      0.000164  \n",
       "2656     0.000382      0.000806  \n",
       "2657     0.003463      0.003868  \n",
       "2658     0.004223      0.004140  \n",
       "2659     0.003357      0.004934  \n",
       "\n",
       "[2660 rows x 6 columns]"
      ]
     },
     "execution_count": 8,
     "metadata": {},
     "output_type": "execute_result"
    }
   ],
   "source": [
    "# Load the dataset returns.csv and set the index to level_0 and time\n",
    "# YOUR CODE HERE\n",
    "file_path = Path('returns.csv')\n",
    "df = pd.read_csv(file_path)\n",
    "\n",
    "# Preview the data\n",
    "pd.DataFrame(df)"
   ]
  },
  {
   "cell_type": "code",
   "execution_count": 18,
   "metadata": {},
   "outputs": [],
   "source": [
    "# Create a separate dataframe for features and define the target variable as a binary target\n",
    "# YOUR CODE HERE\n",
    "\n",
    "# Create the target variable\n",
    "# YOUR CODE HERE"
   ]
  },
  {
   "cell_type": "markdown",
   "metadata": {},
   "source": [
    "##### Note:\n",
    "> Notice that we don't use shuffle when splitting the dataset into a training and testing dataset. \n",
    "\n",
    "> We want to keep the original ordering of the data, so we don't end up using observations in the future to predict past observations,\n",
    "\n",
    "> This is a critical mistake known as look ahead bias."
   ]
  },
  {
   "cell_type": "markdown",
   "metadata": {},
   "source": [
    "#### 2. Use the train_test_split library to split the dataset into a training and testing dataset, with 70% used for testing\n",
    "* Set the shuffle parameter to False, so that you use the first 70% for training to prvent look ahead bias.\n",
    "* Make sure you have these 4 variables: `X_train`, `X_test`, `y_train`, `y_test`. "
   ]
  },
  {
   "cell_type": "code",
   "execution_count": 19,
   "metadata": {},
   "outputs": [],
   "source": [
    "# Import train_test_split \n",
    "from sklearn.model_selection import train_test_split\n",
    "\n",
    "# Split the dataset without shuffling\n",
    "# YOUR CODE HERE"
   ]
  },
  {
   "cell_type": "markdown",
   "metadata": {},
   "source": [
    "#### 3. Use the `Counter` function to test the distribution of the data. \n",
    "* The result of `Counter({1: 668, 0: 1194})` reveals the data is indeed unbalanced."
   ]
  },
  {
   "cell_type": "code",
   "execution_count": 20,
   "metadata": {},
   "outputs": [
    {
     "data": {
      "text/plain": [
       "Counter({1: 668, 0: 1194})"
      ]
     },
     "execution_count": 20,
     "metadata": {},
     "output_type": "execute_result"
    }
   ],
   "source": [
    "# Import the Counter function from the collections library\n",
    "from collections import Counter\n",
    "\n",
    "# Use Counter to count the number 1s and 0 in y_train\n",
    "# YOUR CODE HERE"
   ]
  },
  {
   "cell_type": "markdown",
   "metadata": {},
   "source": [
    "#### 4. Balance the dataset with the Oversampler libary, setting `random state= 1`."
   ]
  },
  {
   "cell_type": "code",
   "execution_count": 21,
   "metadata": {},
   "outputs": [],
   "source": [
    "# Import RandomOverSampler from the imblearn library\n",
    "from imblearn.over_sampling import RandomOverSampler\n",
    "\n",
    "# Use RandomOverSampler to resample the datase using random_state=1\n",
    "ros = RandomOverSampler(random_state=1)\n",
    "X_resampled, y_resampled = ros.fit_resample(X_train, y_train)"
   ]
  },
  {
   "cell_type": "markdown",
   "metadata": {},
   "source": [
    "#### 5. Test the distribution once again with `Counter`. The new result of `Counter({1: 1194, 0: 1194})` shows the data is now balanced."
   ]
  },
  {
   "cell_type": "code",
   "execution_count": 22,
   "metadata": {},
   "outputs": [
    {
     "data": {
      "text/plain": [
       "Counter({1: 1194, 0: 1194})"
      ]
     },
     "execution_count": 22,
     "metadata": {},
     "output_type": "execute_result"
    }
   ],
   "source": [
    "# Use Counter again to verify imbalance removed\n",
    "# YOUR CODE HERE"
   ]
  },
  {
   "cell_type": "markdown",
   "metadata": {},
   "source": [
    "# Machine Learning\n",
    "\n",
    "#### 1. The first cells in this section provide an example of how to fit and train your model using the `LogisticRegression` model from sklearn:\n",
    "* Import select model.\n",
    "* Instantiate model object.\n",
    "* Fit the model to the resampled data - `X_resampled` and `y_resampled`.\n",
    "* Predict the model using `X_test`.\n",
    "* Print the classification report."
   ]
  },
  {
   "cell_type": "code",
   "execution_count": 23,
   "metadata": {},
   "outputs": [],
   "source": [
    "# Import classification_report from sklearn\n",
    "from sklearn.metrics import classification_report"
   ]
  },
  {
   "cell_type": "code",
   "execution_count": 24,
   "metadata": {},
   "outputs": [
    {
     "name": "stdout",
     "output_type": "stream",
     "text": [
      "              precision    recall  f1-score   support\n",
      "\n",
      "           0     0.5365    0.5259    0.5312       405\n",
      "           1     0.5212    0.5318    0.5264       393\n",
      "\n",
      "    accuracy                         0.5288       798\n",
      "   macro avg     0.5289    0.5289    0.5288       798\n",
      "weighted avg     0.5290    0.5288    0.5288       798\n",
      "\n"
     ]
    }
   ],
   "source": [
    "# Import LogisticRegression from sklearn\n",
    "from sklearn.linear_model import LogisticRegression\n",
    "\n",
    "# Create a LogisticRegression model and train it on the X_resampled data we created before\n",
    "log_model = LogisticRegression()\n",
    "log_model.fit(X_resampled, y_resampled)  \n",
    "\n",
    "# Use the model you trained to predict using X_test\n",
    "y_pred = log_model.predict(X_test)   \n",
    "\n",
    "# Print out a classification report toevaluate performance\n",
    "print(classification_report(y_test, y_pred, digits=4))"
   ]
  },
  {
   "cell_type": "markdown",
   "metadata": {},
   "source": [
    "#### 2. Use the same approach as above to train and test the following ML Algorithms:\n",
    "* [RandomForestClassifier](https://scikit-learn.org/stable/modules/generated/sklearn.ensemble.RandomForestClassifier.html)\n",
    "* [GradientBoostingClassifier](https://scikit-learn.org/stable/modules/generated/sklearn.ensemble.GradientBoostingClassifier.html)\n",
    "* [AdaBoostClassifier](https://scikit-learn.org/stable/modules/generated/sklearn.ensemble.AdaBoostClassifier.html)\n",
    "* [XGBClassifier](https://xgboost.readthedocs.io/en/latest/python/python_api.html)"
   ]
  },
  {
   "cell_type": "markdown",
   "metadata": {},
   "source": [
    "#### RandomForestClassifier"
   ]
  },
  {
   "cell_type": "code",
   "execution_count": 25,
   "metadata": {},
   "outputs": [
    {
     "name": "stdout",
     "output_type": "stream",
     "text": [
      "              precision    recall  f1-score   support\n",
      "\n",
      "           0     0.5041    0.6049    0.5499       405\n",
      "           1     0.4872    0.3868    0.4312       393\n",
      "\n",
      "    accuracy                         0.4975       798\n",
      "   macro avg     0.4956    0.4959    0.4906       798\n",
      "weighted avg     0.4958    0.4975    0.4915       798\n",
      "\n"
     ]
    }
   ],
   "source": [
    "# Import RandomForestClassifier from sklearn\n",
    "from sklearn.ensemble import RandomForestClassifier\n",
    "\n",
    "# Create a RandomForestClassifier model and train it on the X_resampled data we created before\n",
    "# YOUR CODE HERE\n",
    "\n",
    "# Use the model you trained to predict using X_test\n",
    "# YOUR CODE HERE  \n",
    "\n",
    "# Print out a classification report to evaluate performance\n",
    "# YOUR CODE HERE"
   ]
  },
  {
   "cell_type": "markdown",
   "metadata": {},
   "source": [
    "#### GradientBoostingClassifier"
   ]
  },
  {
   "cell_type": "code",
   "execution_count": 26,
   "metadata": {},
   "outputs": [
    {
     "name": "stdout",
     "output_type": "stream",
     "text": [
      "              precision    recall  f1-score   support\n",
      "\n",
      "           0     0.4976    0.5136    0.5055       405\n",
      "           1     0.4816    0.4656    0.4735       393\n",
      "\n",
      "    accuracy                         0.4900       798\n",
      "   macro avg     0.4896    0.4896    0.4895       798\n",
      "weighted avg     0.4897    0.4900    0.4897       798\n",
      "\n"
     ]
    }
   ],
   "source": [
    "# Import RandomForestClassifier from sklearn\n",
    "from sklearn.ensemble import GradientBoostingClassifier\n",
    "\n",
    "# Create a GradientBoostingClassifier model and train it on the X_resampled data we created before\n",
    "# YOUR CODE HERE\n",
    "\n",
    "# Use the model you trained to predict using X_test\n",
    "# YOUR CODE HERE     \n",
    "\n",
    "# Print out a classification report to evaluate performance\n",
    "# YOUR CODE HERE"
   ]
  },
  {
   "cell_type": "markdown",
   "metadata": {},
   "source": [
    "#### AdaBoostClassifier"
   ]
  },
  {
   "cell_type": "code",
   "execution_count": 27,
   "metadata": {},
   "outputs": [
    {
     "name": "stdout",
     "output_type": "stream",
     "text": [
      "              precision    recall  f1-score   support\n",
      "\n",
      "           0     0.4951    0.3753    0.4270       405\n",
      "           1     0.4847    0.6056    0.5385       393\n",
      "\n",
      "    accuracy                         0.4887       798\n",
      "   macro avg     0.4899    0.4905    0.4827       798\n",
      "weighted avg     0.4900    0.4887    0.4819       798\n",
      "\n"
     ]
    }
   ],
   "source": [
    "# Import RandomForestClassifier from sklearn\n",
    "from sklearn.ensemble import AdaBoostClassifier\n",
    "\n",
    "# Create a AdaBoostClassifier model and train it on the X_resampled data we created before\n",
    "# YOUR CODE HERE\n",
    "\n",
    "# Use the model you trained to predict using X_test\n",
    "# YOUR CODE HERE\n",
    "\n",
    "# Print out a classification report to evaluate performance\n",
    "# YOUR CODE HERE"
   ]
  },
  {
   "cell_type": "markdown",
   "metadata": {},
   "source": [
    "#### XGBClassifier"
   ]
  },
  {
   "cell_type": "code",
   "execution_count": 28,
   "metadata": {},
   "outputs": [
    {
     "name": "stderr",
     "output_type": "stream",
     "text": [
      "C:\\Users\\lorie\\Anaconda3\\envs\\pyvizenv25\\lib\\site-packages\\xgboost\\sklearn.py:888: UserWarning: The use of label encoder in XGBClassifier is deprecated and will be removed in a future release. To remove this warning, do the following: 1) Pass option use_label_encoder=False when constructing XGBClassifier object; and 2) Encode your labels (y) as integers starting with 0, i.e. 0, 1, 2, ..., [num_class - 1].\n",
      "  warnings.warn(label_encoder_deprecation_msg, UserWarning)\n"
     ]
    },
    {
     "name": "stdout",
     "output_type": "stream",
     "text": [
      "[15:23:46] WARNING: C:/Users/Administrator/workspace/xgboost-win64_release_1.3.0/src/learner.cc:1061: Starting in XGBoost 1.3.0, the default evaluation metric used with the objective 'binary:logistic' was changed from 'error' to 'logloss'. Explicitly set eval_metric if you'd like to restore the old behavior.\n",
      "              precision    recall  f1-score   support\n",
      "\n",
      "           0     0.4901    0.5481    0.5175       405\n",
      "           1     0.4696    0.4122    0.4390       393\n",
      "\n",
      "    accuracy                         0.4812       798\n",
      "   macro avg     0.4798    0.4802    0.4783       798\n",
      "weighted avg     0.4800    0.4812    0.4788       798\n",
      "\n"
     ]
    }
   ],
   "source": [
    "# Import RandomForestClassifier from sklearn\n",
    "from xgboost import XGBClassifier\n",
    "\n",
    "# Create a XGBClassifier model and train it on the X_resampled data we created before\n",
    "# YOUR CODE HERE\n",
    "\n",
    "# Use the model you trained to predict using X_test\n",
    "# YOUR CODE HERE\n",
    "\n",
    "# Print out a classification report to evaluate performance\n",
    "# YOUR CODE HERE"
   ]
  },
  {
   "cell_type": "markdown",
   "metadata": {},
   "source": [
    "### Evaluate the performance of each model\n"
   ]
  },
  {
   "cell_type": "markdown",
   "metadata": {},
   "source": [
    "#### 1. Using the classification report for each model, choose the model with the highest precision for use in your algo-trading program.\n",
    "#### 2. Save the selected model with the `joblib` libary to avoid retraining every time you wish to use it."
   ]
  },
  {
   "cell_type": "code",
   "execution_count": 29,
   "metadata": {},
   "outputs": [
    {
     "data": {
      "text/plain": [
       "['log_model.pkl']"
      ]
     },
     "execution_count": 29,
     "metadata": {},
     "output_type": "execute_result"
    }
   ],
   "source": [
    "# Import the joblib library \n",
    "import joblib\n",
    "\n",
    "# Use the library to save the model that you want to use for trading\n",
    "joblib.dump(log_model, 'log_model.pkl')"
   ]
  },
  {
   "cell_type": "markdown",
   "metadata": {},
   "source": [
    "## Part 3: Implement the strongest model using Apaca API"
   ]
  },
  {
   "cell_type": "markdown",
   "metadata": {},
   "source": [
    "### Develop the Algorithm\n"
   ]
  },
  {
   "cell_type": "markdown",
   "metadata": {},
   "source": [
    "#### 1. Use the provided code to ping the Alpaca API and create the DataFrame needed to feed data into the model.\n",
    "   * This code will also store the correct feature data in `X` for later use."
   ]
  },
  {
   "cell_type": "code",
   "execution_count": 30,
   "metadata": {},
   "outputs": [
    {
     "name": "stdout",
     "output_type": "stream",
     "text": [
      "                                FB      AMZN     AAPL    NFLX    GOOGL  \\\n",
      "time                                                                     \n",
      "2021-01-06 14:50:00-05:00  264.610  3146.960  127.110  506.54  1721.82   \n",
      "2021-01-06 14:51:00-05:00  264.630  3146.910  127.430  506.54  1721.82   \n",
      "2021-01-06 14:52:00-05:00  264.830  3147.980  127.720  506.69  1723.67   \n",
      "2021-01-06 14:53:00-05:00  264.525  3148.570  127.510  506.01  1723.67   \n",
      "2021-01-06 14:54:00-05:00  264.560  3147.840  127.645  506.01  1720.84   \n",
      "2021-01-06 14:55:00-05:00  264.880  3150.330  127.920  506.30  1720.60   \n",
      "2021-01-06 14:56:00-05:00  264.965  3150.610  128.150  506.72  1721.10   \n",
      "2021-01-06 14:57:00-05:00  264.980  3151.745  127.980  507.07  1720.07   \n",
      "2021-01-06 14:58:00-05:00  265.000  3149.280  127.850  506.33  1720.07   \n",
      "2021-01-06 14:59:00-05:00  265.360  3150.840  127.930  506.13  1720.48   \n",
      "2021-01-06 15:00:00-05:00  264.840  3148.580  127.630  506.43  1720.48   \n",
      "\n",
      "                              MSFT    TSLA  \n",
      "time                                        \n",
      "2021-01-06 14:50:00-05:00  213.930  753.33  \n",
      "2021-01-06 14:51:00-05:00  214.080  757.44  \n",
      "2021-01-06 14:52:00-05:00  214.220  759.03  \n",
      "2021-01-06 14:53:00-05:00  213.960  756.65  \n",
      "2021-01-06 14:54:00-05:00  214.230  759.90  \n",
      "2021-01-06 14:55:00-05:00  214.330  762.45  \n",
      "2021-01-06 14:56:00-05:00  214.380  763.04  \n",
      "2021-01-06 14:57:00-05:00  214.210  763.04  \n",
      "2021-01-06 14:58:00-05:00  214.180  762.30  \n",
      "2021-01-06 14:59:00-05:00  214.235  761.80  \n",
      "2021-01-06 15:00:00-05:00  214.070  761.24  \n"
     ]
    }
   ],
   "source": [
    "# Create the list of tickers\n",
    "\n",
    "ticker_list = ['FB','AMZN','AAPL','NFLX', 'GOOGL', 'MSFT', 'TSLA']\n",
    "# Define Dates\n",
    "\n",
    "beg_date = '2021-01-06'\n",
    "end_date = '2021-01-06'\n",
    "\n",
    "# Convert the date in a format the Alpaca API reqires\n",
    "start =  pd.Timestamp(f'{beg_date} 09:30:00-0400', tz='America/New_York').replace(hour=9, minute=30, second=0).astimezone('GMT').isoformat()[:-6]+'Z'\n",
    "end   =  pd.Timestamp(f'{end_date} 16:00:00-0400', tz='America/New_York').replace(hour=15, minute=0, second=0).astimezone('GMT').isoformat()[:-6]+'Z'\n",
    "timeframe='1Min'\n",
    "\n",
    "# Use iloc to get the last 10 mins every time we pull new data\n",
    "prices = api.get_barset(ticker_list, \"minute\", start=start, end=end).df.iloc[-11:]\n",
    "prices.ffill(inplace=True)   \n",
    "\n",
    "# Create an empty DataFrame for closing prices\n",
    "df_closing_prices = pd.DataFrame()\n",
    "\n",
    "# Fetch the closing prices of our tickers\n",
    "df_closing_prices[\"FB\"] = prices[\"FB\"][\"close\"]\n",
    "df_closing_prices[\"AMZN\"] = prices[\"AMZN\"][\"close\"]\n",
    "df_closing_prices[\"AAPL\"] = prices[\"AAPL\"][\"close\"]\n",
    "df_closing_prices[\"NFLX\"] = prices[\"NFLX\"][\"close\"]\n",
    "df_closing_prices[\"GOOGL\"] = prices[\"GOOGL\"][\"close\"]\n",
    "df_closing_prices['MSFT'] = prices['MSFT'][\"close\"]\n",
    "df_closing_prices['TSLA'] = prices['TSLA'][\"close\"]\n",
    "\n",
    "print(df_closing_prices.head(20))"
   ]
  },
  {
   "cell_type": "code",
   "execution_count": 31,
   "metadata": {},
   "outputs": [
    {
     "data": {
      "text/html": [
       "<div>\n",
       "<style scoped>\n",
       "    .dataframe tbody tr th:only-of-type {\n",
       "        vertical-align: middle;\n",
       "    }\n",
       "\n",
       "    .dataframe tbody tr th {\n",
       "        vertical-align: top;\n",
       "    }\n",
       "\n",
       "    .dataframe thead th {\n",
       "        text-align: right;\n",
       "    }\n",
       "</style>\n",
       "<table border=\"1\" class=\"dataframe\">\n",
       "  <thead>\n",
       "    <tr style=\"text-align: right;\">\n",
       "      <th></th>\n",
       "      <th></th>\n",
       "      <th>1_m_returns</th>\n",
       "      <th>5_m_returns</th>\n",
       "      <th>10_m_returns</th>\n",
       "    </tr>\n",
       "    <tr>\n",
       "      <th>level_0</th>\n",
       "      <th>time</th>\n",
       "      <th></th>\n",
       "      <th></th>\n",
       "      <th></th>\n",
       "    </tr>\n",
       "  </thead>\n",
       "  <tbody>\n",
       "    <tr>\n",
       "      <th>FB</th>\n",
       "      <th>2021-01-06 15:00:00-05:00</th>\n",
       "      <td>-0.001960</td>\n",
       "      <td>-0.000151</td>\n",
       "      <td>0.000869</td>\n",
       "    </tr>\n",
       "    <tr>\n",
       "      <th>AMZN</th>\n",
       "      <th>2021-01-06 15:00:00-05:00</th>\n",
       "      <td>-0.000717</td>\n",
       "      <td>-0.000555</td>\n",
       "      <td>0.000515</td>\n",
       "    </tr>\n",
       "    <tr>\n",
       "      <th>AAPL</th>\n",
       "      <th>2021-01-06 15:00:00-05:00</th>\n",
       "      <td>-0.002345</td>\n",
       "      <td>-0.002267</td>\n",
       "      <td>0.004091</td>\n",
       "    </tr>\n",
       "    <tr>\n",
       "      <th>NFLX</th>\n",
       "      <th>2021-01-06 15:00:00-05:00</th>\n",
       "      <td>0.000593</td>\n",
       "      <td>0.000257</td>\n",
       "      <td>-0.000217</td>\n",
       "    </tr>\n",
       "    <tr>\n",
       "      <th>GOOGL</th>\n",
       "      <th>2021-01-06 15:00:00-05:00</th>\n",
       "      <td>0.000000</td>\n",
       "      <td>-0.000070</td>\n",
       "      <td>-0.000778</td>\n",
       "    </tr>\n",
       "    <tr>\n",
       "      <th>MSFT</th>\n",
       "      <th>2021-01-06 15:00:00-05:00</th>\n",
       "      <td>-0.000770</td>\n",
       "      <td>-0.001213</td>\n",
       "      <td>0.000654</td>\n",
       "    </tr>\n",
       "    <tr>\n",
       "      <th>TSLA</th>\n",
       "      <th>2021-01-06 15:00:00-05:00</th>\n",
       "      <td>-0.000735</td>\n",
       "      <td>-0.001587</td>\n",
       "      <td>0.010500</td>\n",
       "    </tr>\n",
       "  </tbody>\n",
       "</table>\n",
       "</div>"
      ],
      "text/plain": [
       "                                   1_m_returns  5_m_returns  10_m_returns\n",
       "level_0 time                                                             \n",
       "FB      2021-01-06 15:00:00-05:00    -0.001960    -0.000151      0.000869\n",
       "AMZN    2021-01-06 15:00:00-05:00    -0.000717    -0.000555      0.000515\n",
       "AAPL    2021-01-06 15:00:00-05:00    -0.002345    -0.002267      0.004091\n",
       "NFLX    2021-01-06 15:00:00-05:00     0.000593     0.000257     -0.000217\n",
       "GOOGL   2021-01-06 15:00:00-05:00     0.000000    -0.000070     -0.000778\n",
       "MSFT    2021-01-06 15:00:00-05:00    -0.000770    -0.001213      0.000654\n",
       "TSLA    2021-01-06 15:00:00-05:00    -0.000735    -0.001587      0.010500"
      ]
     },
     "execution_count": 31,
     "metadata": {},
     "output_type": "execute_result"
    }
   ],
   "source": [
    "# Create list of momentums\n",
    "list_of_momentums = [1,5,10]\n",
    "\n",
    "for i in list_of_momentums:  \n",
    "    # Compute percentage change for each one of the momentums in the momentum list\n",
    "    returns_temp = df_closing_prices.pct_change(i)\n",
    "    # Unstack the returns \n",
    "    returns_temp = pd.DataFrame(returns_temp.unstack())\n",
    "    name = f'{i}_m_returns'\n",
    "    returns_temp.rename(columns={0: name}, inplace = True)\n",
    "    # Reset the index so we can merge based on index\n",
    "    returns_temp.reset_index(inplace = True)\n",
    "    # Merge newly computed returns with previously created returns\n",
    "    if i ==1:\n",
    "        returns = returns_temp\n",
    "    else:\n",
    "        returns = pd.merge(returns,returns_temp,left_on=['level_0', 'time'],right_on=['level_0', 'time'], how='left', suffixes=('_original', 'right'))\n",
    "\n",
    "# Drop nulls and set index\n",
    "returns.dropna(axis=0, how='any', inplace=True)\n",
    "returns.set_index(['level_0', 'time'], inplace=True)\n",
    "\n",
    "# Generate feature data and preview first 10 rows.\n",
    "X = returns\n",
    "X.head(10)"
   ]
  },
  {
   "cell_type": "markdown",
   "metadata": {},
   "source": [
    "#### 2. Using `joblib`, load the chosen model."
   ]
  },
  {
   "cell_type": "code",
   "execution_count": 32,
   "metadata": {},
   "outputs": [],
   "source": [
    "# Load the previously trained and saved model using joblib\n",
    "# YOUR CODE HERE"
   ]
  },
  {
   "cell_type": "markdown",
   "metadata": {},
   "source": [
    "#### 3. Use the model file to make predicttions:\n",
    "* Use `predict` on `X` and save this as `y_pred`.\n",
    "* Convert `y_pred` to a DataFrame, setting the index to the index of `X`.\n",
    "* Rename the column 0 to 'buy', be sure to set `inplace =True`."
   ]
  },
  {
   "cell_type": "code",
   "execution_count": 33,
   "metadata": {},
   "outputs": [
    {
     "data": {
      "text/html": [
       "<div>\n",
       "<style scoped>\n",
       "    .dataframe tbody tr th:only-of-type {\n",
       "        vertical-align: middle;\n",
       "    }\n",
       "\n",
       "    .dataframe tbody tr th {\n",
       "        vertical-align: top;\n",
       "    }\n",
       "\n",
       "    .dataframe thead th {\n",
       "        text-align: right;\n",
       "    }\n",
       "</style>\n",
       "<table border=\"1\" class=\"dataframe\">\n",
       "  <thead>\n",
       "    <tr style=\"text-align: right;\">\n",
       "      <th></th>\n",
       "      <th></th>\n",
       "      <th>buy</th>\n",
       "    </tr>\n",
       "    <tr>\n",
       "      <th>level_0</th>\n",
       "      <th>time</th>\n",
       "      <th></th>\n",
       "    </tr>\n",
       "  </thead>\n",
       "  <tbody>\n",
       "    <tr>\n",
       "      <th>FB</th>\n",
       "      <th>2021-01-06 15:00:00-05:00</th>\n",
       "      <td>1</td>\n",
       "    </tr>\n",
       "    <tr>\n",
       "      <th>AMZN</th>\n",
       "      <th>2021-01-06 15:00:00-05:00</th>\n",
       "      <td>1</td>\n",
       "    </tr>\n",
       "    <tr>\n",
       "      <th>AAPL</th>\n",
       "      <th>2021-01-06 15:00:00-05:00</th>\n",
       "      <td>1</td>\n",
       "    </tr>\n",
       "    <tr>\n",
       "      <th>NFLX</th>\n",
       "      <th>2021-01-06 15:00:00-05:00</th>\n",
       "      <td>0</td>\n",
       "    </tr>\n",
       "    <tr>\n",
       "      <th>GOOGL</th>\n",
       "      <th>2021-01-06 15:00:00-05:00</th>\n",
       "      <td>1</td>\n",
       "    </tr>\n",
       "    <tr>\n",
       "      <th>MSFT</th>\n",
       "      <th>2021-01-06 15:00:00-05:00</th>\n",
       "      <td>1</td>\n",
       "    </tr>\n",
       "    <tr>\n",
       "      <th>TSLA</th>\n",
       "      <th>2021-01-06 15:00:00-05:00</th>\n",
       "      <td>0</td>\n",
       "    </tr>\n",
       "  </tbody>\n",
       "</table>\n",
       "</div>"
      ],
      "text/plain": [
       "                                   buy\n",
       "level_0 time                          \n",
       "FB      2021-01-06 15:00:00-05:00    1\n",
       "AMZN    2021-01-06 15:00:00-05:00    1\n",
       "AAPL    2021-01-06 15:00:00-05:00    1\n",
       "NFLX    2021-01-06 15:00:00-05:00    0\n",
       "GOOGL   2021-01-06 15:00:00-05:00    1\n",
       "MSFT    2021-01-06 15:00:00-05:00    1\n",
       "TSLA    2021-01-06 15:00:00-05:00    0"
      ]
     },
     "execution_count": 33,
     "metadata": {},
     "output_type": "execute_result"
    }
   ],
   "source": [
    "# Use the model file to predict on X\n",
    "# YOUR CODE HERE\n",
    "\n",
    "# Convert y_pred to a dataframe, set the index to the index of X\n",
    "# YOUR CODE HERE\n",
    "\n",
    "# Rename the column 0 to 'buy', be sure to set inplace =True\n",
    "# YOUR CODE HERE"
   ]
  },
  {
   "cell_type": "markdown",
   "metadata": {},
   "source": [
    "#### 4. Filter the stocks where 'buy' is equal to 1, saving the filter as `y_pred`."
   ]
  },
  {
   "cell_type": "code",
   "execution_count": 34,
   "metadata": {},
   "outputs": [],
   "source": [
    "# Filter the stocks where 'buy' is equal to 1\n",
    "# YOUR CODE HERE"
   ]
  },
  {
   "cell_type": "markdown",
   "metadata": {},
   "source": [
    "#### 5. Using the `y_pred` filter, create a dictionary called `buy_dict` and assign 'n' to each Ticker (key value) as a placeholder."
   ]
  },
  {
   "cell_type": "code",
   "execution_count": 35,
   "metadata": {},
   "outputs": [
    {
     "data": {
      "text/plain": [
       "{'FB': 'n', 'AMZN': 'n', 'AAPL': 'n', 'GOOGL': 'n', 'MSFT': 'n'}"
      ]
     },
     "execution_count": 35,
     "metadata": {},
     "output_type": "execute_result"
    }
   ],
   "source": [
    "# Create dictionary from y_pred and assign a 'n' to each of them for now as a placeholder.\n",
    "buy_dict = dict.fromkeys(y_pred.index.get_level_values(0), 'n')\n",
    "buy_dict"
   ]
  },
  {
   "cell_type": "markdown",
   "metadata": {},
   "source": [
    "#### 6. Obtain the total available equity in your account from the Alpaca API and store in a variable called `total_capital`. You will split the capital equally between all selected stocks per the CIO's request."
   ]
  },
  {
   "cell_type": "code",
   "execution_count": 36,
   "metadata": {},
   "outputs": [
    {
     "name": "stdout",
     "output_type": "stream",
     "text": [
      "Total available capital: 99433.95\n"
     ]
    }
   ],
   "source": [
    "# Pull the total available equity in our account from the  Alpaca API\n",
    "# YOUR CODE HERE"
   ]
  },
  {
   "cell_type": "code",
   "execution_count": 37,
   "metadata": {},
   "outputs": [
    {
     "name": "stdout",
     "output_type": "stream",
     "text": [
      "Capital per stock: 19886.79\n"
     ]
    }
   ],
   "source": [
    "# Compute capital per stock, divide equity in account by number of stocks\n",
    "# Use Alpaca API to pull the equity in the account\n",
    "if len(buy_dict) > 0:\n",
    "    capital_per_stock = float(total_capital)/ len(buy_dict)\n",
    "else:\n",
    "    capital_per_stock = 0\n",
    "print(f'Capital per stock: {capital_per_stock}')"
   ]
  },
  {
   "cell_type": "markdown",
   "metadata": {},
   "source": [
    "#### 7. Use a for-loop to iterate through `buy_dict` to determine the number stocks you need to buy for each ticker."
   ]
  },
  {
   "cell_type": "code",
   "execution_count": 38,
   "metadata": {},
   "outputs": [
    {
     "name": "stdout",
     "output_type": "stream",
     "text": [
      "{'FB': 75, 'AMZN': 6, 'AAPL': 156, 'GOOGL': 11, 'MSFT': 92}\n"
     ]
    }
   ],
   "source": [
    "# Use for loop to iterate through dictionary of buys \n",
    "# Determine the number stocks we need to buy for each ticker\n",
    "for ticker in buy_dict:\n",
    "    try:\n",
    "        buy_dict[ticker] = int(capital_per_stock /int(prices[ticker].iloc[-1]['close']))\n",
    "    except:\n",
    "        pass\n",
    "\n",
    "print(buy_dict)"
   ]
  },
  {
   "cell_type": "markdown",
   "metadata": {},
   "source": [
    "#### 8. Cancel all previous orders in the Alpaca API (so you don't buy more than intended) and sell all currently held stocks to close all positions."
   ]
  },
  {
   "cell_type": "code",
   "execution_count": 39,
   "metadata": {},
   "outputs": [
    {
     "data": {
      "text/plain": [
       "[]"
      ]
     },
     "execution_count": 39,
     "metadata": {},
     "output_type": "execute_result"
    }
   ],
   "source": [
    "# Cancel all previous orders in the Alpaca API\n",
    "# YOUR CODE HERE\n",
    "\n",
    "# Sell all currently held stocks to close all positions\n",
    "# YOUR CODE HERE"
   ]
  },
  {
   "cell_type": "markdown",
   "metadata": {},
   "source": [
    "#### 9. Iterate through `buy_dict` and send a buy order for each ticker with their corresponding number of shares."
   ]
  },
  {
   "cell_type": "code",
   "execution_count": 40,
   "metadata": {},
   "outputs": [
    {
     "name": "stdout",
     "output_type": "stream",
     "text": [
      "buying FB numShare 75\n",
      "buying AMZN numShare 6\n",
      "buying AAPL numShare 156\n",
      "buying GOOGL numShare 11\n",
      "buying MSFT numShare 92\n"
     ]
    }
   ],
   "source": [
    "# Iterate through the longlist object and send a buy order for each ticker with a corresponding number of shares:\n",
    "# YOUR CODE HERE"
   ]
  },
  {
   "cell_type": "markdown",
   "metadata": {},
   "source": [
    "### Automate the algorithm"
   ]
  },
  {
   "cell_type": "markdown",
   "metadata": {},
   "source": [
    "#### 1. Make a function called `trade()` that incorporates all of the steps above."
   ]
  },
  {
   "cell_type": "code",
   "execution_count": 41,
   "metadata": {},
   "outputs": [],
   "source": [
    "# Add all of the steps conducted above into the function trade\n",
    "def trade():\n",
    "\n",
    "    ticker_list = ['FB','AMZN','AAPL','NFLX', 'GOOGL', 'MSFT', 'TSLA']\n",
    "    # Notice that we remove the start and end variables since we want the latest prices.\n",
    "    timeframe='1Min'\n",
    "    # Use iloc to get the last 10 mins every time we pull new data\n",
    "    prices = api.get_barset(ticker_list, \"minute\").df.iloc[-11:]\n",
    "    prices.ffill(inplace=True)   \n",
    "\n",
    "    # Create and empty DataFrame for closing prices\n",
    "    df_closing_prices = pd.DataFrame()\n",
    "\n",
    "    # Fetch the closing prices of our tickers\n",
    "    df_closing_prices[\"FB\"] = prices[\"FB\"][\"close\"]\n",
    "    df_closing_prices[\"AMZN\"] = prices[\"AMZN\"][\"close\"]\n",
    "    df_closing_prices[\"AAPL\"] = prices[\"AAPL\"][\"close\"]\n",
    "    df_closing_prices[\"NFLX\"] = prices[\"NFLX\"][\"close\"]\n",
    "    df_closing_prices[\"GOOGL\"] = prices[\"GOOGL\"][\"close\"]\n",
    "    df_closing_prices['MSFT'] = prices['MSFT'][\"close\"]\n",
    "    df_closing_prices['TSLA'] = prices['TSLA'][\"close\"]\n",
    "    print(df_closing_prices.head())\n",
    "    \n",
    "    # Loop through momentums to build new DataFrame\n",
    "    list_of_momentums = [1,5,10]\n",
    "    for i in list_of_momentums:   \n",
    "        returns_temp = df_closing_prices.pct_change(i)\n",
    "        returns_temp = pd.DataFrame(returns_temp.unstack())\n",
    "        name = f'{i}_m_returns'\n",
    "        returns_temp.rename(columns={0: name}, inplace = True)\n",
    "        returns_temp.reset_index(inplace = True)\n",
    "        if i ==1:\n",
    "            returns = returns_temp\n",
    "        else:\n",
    "            returns = pd.merge(returns,returns_temp,left_on=['level_0', 'time'],right_on=['level_0', 'time'], how='left', suffixes=('_original', 'right'))\n",
    "\n",
    "    # Drop nulls and set index            \n",
    "    returns.dropna(axis=0, how='any', inplace=True)\n",
    "    returns.set_index(['level_0', 'time'], inplace=True)\n",
    "\n",
    "    # Preprocess data for model\n",
    "    # YOUR CODE HERE\n",
    "\n",
    "    # Create the `buy_dict` object\n",
    "    # YOUR CODE HERE\n",
    "    \n",
    "    # Split capital between stocks and determine buy or sell\n",
    "    # YOUR CODE HERE\n",
    "\n",
    "    \n",
    "    # Cancel pending orders and close positions\n",
    "    # YOUR CODE HERE\n",
    "   \n",
    "    \n",
    "    # Submit orders\n",
    "    # YOUR CODE HERE\n"
   ]
  },
  {
   "cell_type": "markdown",
   "metadata": {},
   "source": [
    "#### 2. Import Python's schedule module."
   ]
  },
  {
   "cell_type": "code",
   "execution_count": 42,
   "metadata": {},
   "outputs": [],
   "source": [
    "# Import Python's schedule module \n",
    "# YOUR CODE HERE"
   ]
  },
  {
   "cell_type": "markdown",
   "metadata": {},
   "source": [
    "#### 3. Use the \"schedule\" module to automate the algorithm:\n",
    "* Clear the schedule with `.clear()`.\n",
    "* Define a schedule to run the trade function every minute at 5 seconds past the minute mark (e.g. `10:31:05`).\n",
    "* Use the Alpaca API to check whether the market is open.\n",
    "* Use run_pending() function inside schedule to execute the schedule you defined while the market is open"
   ]
  },
  {
   "cell_type": "code",
   "execution_count": null,
   "metadata": {},
   "outputs": [
    {
     "name": "stdout",
     "output_type": "stream",
     "text": [
      "                               FB     AMZN     AAPL     NFLX    GOOGL  \\\n",
      "time                                                                    \n",
      "2021-02-02 15:13:00-05:00  267.24  3401.17  134.705  552.420  1924.72   \n",
      "2021-02-02 15:14:00-05:00  267.42  3397.59  134.665  552.530  1924.84   \n",
      "2021-02-02 15:15:00-05:00  267.30  3395.85  134.700  552.690  1924.96   \n",
      "2021-02-02 15:16:00-05:00  267.11  3393.24  134.730  552.320  1925.13   \n",
      "2021-02-02 15:17:00-05:00  267.19  3397.00  134.820  552.685  1926.48   \n",
      "\n",
      "                              MSFT    TSLA  \n",
      "time                                        \n",
      "2021-02-02 15:13:00-05:00  240.705  878.60  \n",
      "2021-02-02 15:14:00-05:00  240.590  878.05  \n",
      "2021-02-02 15:15:00-05:00  240.640  878.22  \n",
      "2021-02-02 15:16:00-05:00  240.460  878.75  \n",
      "2021-02-02 15:17:00-05:00  240.670  878.75  \n",
      "buying AAPL numShare 371\n",
      "buying TSLA numShare 56\n",
      "                               FB      AMZN     AAPL     NFLX    GOOGL  \\\n",
      "time                                                                     \n",
      "2021-02-02 15:14:00-05:00  267.42  3397.590  134.665  552.530  1924.84   \n",
      "2021-02-02 15:15:00-05:00  267.30  3395.850  134.700  552.690  1924.96   \n",
      "2021-02-02 15:16:00-05:00  267.11  3393.240  134.730  552.320  1925.13   \n",
      "2021-02-02 15:17:00-05:00  267.19  3397.000  134.820  552.685  1926.48   \n",
      "2021-02-02 15:18:00-05:00  267.21  3398.505  134.760  552.340  1926.37   \n",
      "\n",
      "                             MSFT    TSLA  \n",
      "time                                       \n",
      "2021-02-02 15:14:00-05:00  240.59  878.05  \n",
      "2021-02-02 15:15:00-05:00  240.64  878.22  \n",
      "2021-02-02 15:16:00-05:00  240.46  878.75  \n",
      "2021-02-02 15:17:00-05:00  240.67  878.75  \n",
      "2021-02-02 15:18:00-05:00  240.72  878.39  \n",
      "buying AMZN numShare 5\n",
      "buying AAPL numShare 148\n",
      "buying NFLX numShare 35\n",
      "buying GOOGL numShare 10\n",
      "buying TSLA numShare 22\n"
     ]
    }
   ],
   "source": [
    "# Clear the schedule\n",
    "# YOUR CODE HERE\n",
    "\n",
    "# Define a schedule to run the trade function every minute at 5 seconds past the minute mark (e.g. 10:31:05)\n",
    "# YOUR CODE HERE\n",
    "\n",
    "# Use the Alpaca API to check whether the market is open\n",
    "# YOUR CODE HERE\n",
    "\n",
    "# Use run_pending() function inside schedule to execute the schedule you defined as long as the market is open\n",
    "# YOUR CODE HERE"
   ]
  },
  {
   "cell_type": "code",
   "execution_count": null,
   "metadata": {},
   "outputs": [],
   "source": []
  }
 ],
 "metadata": {
  "kernelspec": {
   "display_name": "Python 3",
   "language": "python",
   "name": "python3"
  },
  "language_info": {
   "codemirror_mode": {
    "name": "ipython",
    "version": 3
   },
   "file_extension": ".py",
   "mimetype": "text/x-python",
   "name": "python",
   "nbconvert_exporter": "python",
   "pygments_lexer": "ipython3",
   "version": "3.7.9"
  }
 },
 "nbformat": 4,
 "nbformat_minor": 4
}
