{
 "cells": [
  {
   "cell_type": "code",
   "execution_count": 195,
   "metadata": {},
   "outputs": [],
   "source": [
    "import os\n",
    "import requests\n",
    "import pandas as pd\n",
    "from dotenv import load_dotenv\n",
    "import alpaca_trade_api as tradeapi\n",
    "import matplotlib.pyplot as plt\n",
    "%matplotlib inline\n",
    "\n",
    "import warnings\n",
    "warnings.filterwarnings('ignore')\n",
    "import numpy as np"
   ]
  },
  {
   "cell_type": "code",
   "execution_count": 3,
   "metadata": {},
   "outputs": [],
   "source": [
    "alpaca_api_key = \"PKPOTQ9DJW12ODHW8FMR\"\n",
    "alpaca_secret_key = \"4Zk4ZBfuOnhHEqoWbMdD7R1S0NGoFR5Gf9kdMy39\""
   ]
  },
  {
   "cell_type": "code",
   "execution_count": 4,
   "metadata": {},
   "outputs": [
    {
     "name": "stdout",
     "output_type": "stream",
     "text": [
      "Alpaca Key Type: <class 'str'>\n",
      "Alpaca Key Type: <class 'str'>\n"
     ]
    }
   ],
   "source": [
    "print(f\"Alpaca Key Type: {type(alpaca_api_key)}\")\n",
    "print(f\"Alpaca Key Type: {type(alpaca_secret_key)}\")"
   ]
  },
  {
   "cell_type": "code",
   "execution_count": 275,
   "metadata": {},
   "outputs": [],
   "source": [
    "#Create the Alpaca API Object\n",
    "\n",
    "alpaca = tradeapi.REST(\n",
    "alpaca_api_key,\n",
    "alpaca_secret_key,\n",
    "api_version=\"v2\")"
   ]
  },
  {
   "cell_type": "code",
   "execution_count": 276,
   "metadata": {},
   "outputs": [],
   "source": [
    "#format current date as ISO format\n",
    "today = pd.Timestamp(\"2020-01-01\", tz=\"America/New_York\").isoformat()\n",
    "end_date = pd.Timestamp(\"2020-04-01\", tz=\"America/New_York\").isoformat()"
   ]
  },
  {
   "cell_type": "code",
   "execution_count": 277,
   "metadata": {},
   "outputs": [],
   "source": [
    "# Set timeframe to one day ('1D')for the Alpaca API\n",
    "\n",
    "timeframe = \"1D\""
   ]
  },
  {
   "cell_type": "code",
   "execution_count": 278,
   "metadata": {},
   "outputs": [],
   "source": [
    "tickers= \"TSLA\"\n"
   ]
  },
  {
   "cell_type": "code",
   "execution_count": 279,
   "metadata": {},
   "outputs": [
    {
     "data": {
      "text/html": [
       "<div>\n",
       "<style scoped>\n",
       "    .dataframe tbody tr th:only-of-type {\n",
       "        vertical-align: middle;\n",
       "    }\n",
       "\n",
       "    .dataframe tbody tr th {\n",
       "        vertical-align: top;\n",
       "    }\n",
       "\n",
       "    .dataframe thead tr th {\n",
       "        text-align: left;\n",
       "    }\n",
       "\n",
       "    .dataframe thead tr:last-of-type th {\n",
       "        text-align: right;\n",
       "    }\n",
       "</style>\n",
       "<table border=\"1\" class=\"dataframe\">\n",
       "  <thead>\n",
       "    <tr>\n",
       "      <th></th>\n",
       "      <th colspan=\"5\" halign=\"left\">TSLA</th>\n",
       "    </tr>\n",
       "    <tr>\n",
       "      <th></th>\n",
       "      <th>open</th>\n",
       "      <th>high</th>\n",
       "      <th>low</th>\n",
       "      <th>close</th>\n",
       "      <th>volume</th>\n",
       "    </tr>\n",
       "    <tr>\n",
       "      <th>time</th>\n",
       "      <th></th>\n",
       "      <th></th>\n",
       "      <th></th>\n",
       "      <th></th>\n",
       "      <th></th>\n",
       "    </tr>\n",
       "  </thead>\n",
       "  <tbody>\n",
       "    <tr>\n",
       "      <th>2020-01-02 00:00:00-05:00</th>\n",
       "      <td>424.95</td>\n",
       "      <td>430.6957</td>\n",
       "      <td>421.710</td>\n",
       "      <td>430.2400</td>\n",
       "      <td>9113793</td>\n",
       "    </tr>\n",
       "    <tr>\n",
       "      <th>2020-01-03 00:00:00-05:00</th>\n",
       "      <td>440.50</td>\n",
       "      <td>454.0000</td>\n",
       "      <td>436.920</td>\n",
       "      <td>442.7500</td>\n",
       "      <td>16409329</td>\n",
       "    </tr>\n",
       "    <tr>\n",
       "      <th>2020-01-06 00:00:00-05:00</th>\n",
       "      <td>440.47</td>\n",
       "      <td>451.5600</td>\n",
       "      <td>440.000</td>\n",
       "      <td>451.4001</td>\n",
       "      <td>9807049</td>\n",
       "    </tr>\n",
       "    <tr>\n",
       "      <th>2020-01-07 00:00:00-05:00</th>\n",
       "      <td>461.40</td>\n",
       "      <td>471.6300</td>\n",
       "      <td>453.355</td>\n",
       "      <td>469.1700</td>\n",
       "      <td>16859537</td>\n",
       "    </tr>\n",
       "    <tr>\n",
       "      <th>2020-01-08 00:00:00-05:00</th>\n",
       "      <td>473.70</td>\n",
       "      <td>498.4900</td>\n",
       "      <td>468.230</td>\n",
       "      <td>492.0900</td>\n",
       "      <td>29804104</td>\n",
       "    </tr>\n",
       "  </tbody>\n",
       "</table>\n",
       "</div>"
      ],
      "text/plain": [
       "                             TSLA                                       \n",
       "                             open      high      low     close    volume\n",
       "time                                                                    \n",
       "2020-01-02 00:00:00-05:00  424.95  430.6957  421.710  430.2400   9113793\n",
       "2020-01-03 00:00:00-05:00  440.50  454.0000  436.920  442.7500  16409329\n",
       "2020-01-06 00:00:00-05:00  440.47  451.5600  440.000  451.4001   9807049\n",
       "2020-01-07 00:00:00-05:00  461.40  471.6300  453.355  469.1700  16859537\n",
       "2020-01-08 00:00:00-05:00  473.70  498.4900  468.230  492.0900  29804104"
      ]
     },
     "execution_count": 279,
     "metadata": {},
     "output_type": "execute_result"
    }
   ],
   "source": [
    "#Get current price data for MSFT APPL\n",
    "\n",
    "df = alpaca.get_barset(tickers, timeframe, start=today,end=end_date).df\n",
    "\n",
    "df.head()"
   ]
  },
  {
   "cell_type": "code",
   "execution_count": 280,
   "metadata": {},
   "outputs": [
    {
     "data": {
      "text/plain": [
       "MultiIndex([('TSLA',   'open'),\n",
       "            ('TSLA',   'high'),\n",
       "            ('TSLA',    'low'),\n",
       "            ('TSLA',  'close'),\n",
       "            ('TSLA', 'volume')],\n",
       "           )"
      ]
     },
     "execution_count": 280,
     "metadata": {},
     "output_type": "execute_result"
    }
   ],
   "source": [
    "df.columns"
   ]
  },
  {
   "cell_type": "code",
   "execution_count": 281,
   "metadata": {},
   "outputs": [],
   "source": [
    "tesla = df.xs('TSLA', axis=1)\n"
   ]
  },
  {
   "cell_type": "code",
   "execution_count": 282,
   "metadata": {},
   "outputs": [
    {
     "data": {
      "image/png": "[encoded data removed]",
      "text/plain": [
       "<Figure size 432x288 with 1 Axes>"
      ]
     },
     "metadata": {
      "needs_background": "light"
     },
     "output_type": "display_data"
    }
   ],
   "source": [
    "tesla[\"close\"].plot()\n",
    "plt.xlabel(\"Date\")\n",
    "plt.ylabel(\"Adjusted\")\n",
    "plt.title(\"Tesla Price data\")\n",
    "plt.show()\n"
   ]
  },
  {
   "cell_type": "code",
   "execution_count": 284,
   "metadata": {},
   "outputs": [],
   "source": [
    "#feature engineering\n",
    "\n",
    "#price change\n",
    "\n",
    "close = tesla[\"close\"].pct_change()\n",
    "close = close.dropna()\n",
    "close = pd.Series(close)\n",
    "close = close.append(pd.Series(np.nan), ignore_index=True)\n",
    "close = np.array(close)\n",
    "tesla[\"pct_change of close\"] = close"
   ]
  },
  {
   "cell_type": "code",
   "execution_count": 283,
   "metadata": {},
   "outputs": [
    {
     "data": {
      "text/html": [
       "<div>\n",
       "<style scoped>\n",
       "    .dataframe tbody tr th:only-of-type {\n",
       "        vertical-align: middle;\n",
       "    }\n",
       "\n",
       "    .dataframe tbody tr th {\n",
       "        vertical-align: top;\n",
       "    }\n",
       "\n",
       "    .dataframe thead th {\n",
       "        text-align: right;\n",
       "    }\n",
       "</style>\n",
       "<table border=\"1\" class=\"dataframe\">\n",
       "  <thead>\n",
       "    <tr style=\"text-align: right;\">\n",
       "      <th></th>\n",
       "      <th>open</th>\n",
       "      <th>high</th>\n",
       "      <th>low</th>\n",
       "      <th>close</th>\n",
       "      <th>volume</th>\n",
       "    </tr>\n",
       "    <tr>\n",
       "      <th>time</th>\n",
       "      <th></th>\n",
       "      <th></th>\n",
       "      <th></th>\n",
       "      <th></th>\n",
       "      <th></th>\n",
       "    </tr>\n",
       "  </thead>\n",
       "  <tbody>\n",
       "    <tr>\n",
       "      <th>2020-01-02 00:00:00-05:00</th>\n",
       "      <td>424.95</td>\n",
       "      <td>430.6957</td>\n",
       "      <td>421.710</td>\n",
       "      <td>430.2400</td>\n",
       "      <td>9113793</td>\n",
       "    </tr>\n",
       "    <tr>\n",
       "      <th>2020-01-03 00:00:00-05:00</th>\n",
       "      <td>440.50</td>\n",
       "      <td>454.0000</td>\n",
       "      <td>436.920</td>\n",
       "      <td>442.7500</td>\n",
       "      <td>16409329</td>\n",
       "    </tr>\n",
       "    <tr>\n",
       "      <th>2020-01-06 00:00:00-05:00</th>\n",
       "      <td>440.47</td>\n",
       "      <td>451.5600</td>\n",
       "      <td>440.000</td>\n",
       "      <td>451.4001</td>\n",
       "      <td>9807049</td>\n",
       "    </tr>\n",
       "    <tr>\n",
       "      <th>2020-01-07 00:00:00-05:00</th>\n",
       "      <td>461.40</td>\n",
       "      <td>471.6300</td>\n",
       "      <td>453.355</td>\n",
       "      <td>469.1700</td>\n",
       "      <td>16859537</td>\n",
       "    </tr>\n",
       "    <tr>\n",
       "      <th>2020-01-08 00:00:00-05:00</th>\n",
       "      <td>473.70</td>\n",
       "      <td>498.4900</td>\n",
       "      <td>468.230</td>\n",
       "      <td>492.0900</td>\n",
       "      <td>29804104</td>\n",
       "    </tr>\n",
       "    <tr>\n",
       "      <th>...</th>\n",
       "      <td>...</td>\n",
       "      <td>...</td>\n",
       "      <td>...</td>\n",
       "      <td>...</td>\n",
       "      <td>...</td>\n",
       "    </tr>\n",
       "    <tr>\n",
       "      <th>2020-03-26 00:00:00-04:00</th>\n",
       "      <td>547.39</td>\n",
       "      <td>560.0000</td>\n",
       "      <td>512.250</td>\n",
       "      <td>528.0500</td>\n",
       "      <td>16688863</td>\n",
       "    </tr>\n",
       "    <tr>\n",
       "      <th>2020-03-27 00:00:00-04:00</th>\n",
       "      <td>505.00</td>\n",
       "      <td>525.8000</td>\n",
       "      <td>494.030</td>\n",
       "      <td>514.5600</td>\n",
       "      <td>13608376</td>\n",
       "    </tr>\n",
       "    <tr>\n",
       "      <th>2020-03-30 00:00:00-04:00</th>\n",
       "      <td>510.26</td>\n",
       "      <td>516.6471</td>\n",
       "      <td>491.230</td>\n",
       "      <td>502.1000</td>\n",
       "      <td>11162231</td>\n",
       "    </tr>\n",
       "    <tr>\n",
       "      <th>2020-03-31 00:00:00-04:00</th>\n",
       "      <td>501.25</td>\n",
       "      <td>542.9600</td>\n",
       "      <td>497.000</td>\n",
       "      <td>524.4800</td>\n",
       "      <td>16421035</td>\n",
       "    </tr>\n",
       "    <tr>\n",
       "      <th>2020-04-01 00:00:00-04:00</th>\n",
       "      <td>504.00</td>\n",
       "      <td>513.9548</td>\n",
       "      <td>475.100</td>\n",
       "      <td>481.5800</td>\n",
       "      <td>12570750</td>\n",
       "    </tr>\n",
       "  </tbody>\n",
       "</table>\n",
       "<p>63 rows × 5 columns</p>\n",
       "</div>"
      ],
      "text/plain": [
       "                             open      high      low     close    volume\n",
       "time                                                                    \n",
       "2020-01-02 00:00:00-05:00  424.95  430.6957  421.710  430.2400   9113793\n",
       "2020-01-03 00:00:00-05:00  440.50  454.0000  436.920  442.7500  16409329\n",
       "2020-01-06 00:00:00-05:00  440.47  451.5600  440.000  451.4001   9807049\n",
       "2020-01-07 00:00:00-05:00  461.40  471.6300  453.355  469.1700  16859537\n",
       "2020-01-08 00:00:00-05:00  473.70  498.4900  468.230  492.0900  29804104\n",
       "...                           ...       ...      ...       ...       ...\n",
       "2020-03-26 00:00:00-04:00  547.39  560.0000  512.250  528.0500  16688863\n",
       "2020-03-27 00:00:00-04:00  505.00  525.8000  494.030  514.5600  13608376\n",
       "2020-03-30 00:00:00-04:00  510.26  516.6471  491.230  502.1000  11162231\n",
       "2020-03-31 00:00:00-04:00  501.25  542.9600  497.000  524.4800  16421035\n",
       "2020-04-01 00:00:00-04:00  504.00  513.9548  475.100  481.5800  12570750\n",
       "\n",
       "[63 rows x 5 columns]"
      ]
     },
     "execution_count": 283,
     "metadata": {},
     "output_type": "execute_result"
    }
   ],
   "source": [
    "tesla"
   ]
  },
  {
   "cell_type": "code",
   "execution_count": 285,
   "metadata": {},
   "outputs": [
    {
     "data": {
      "text/plain": [
       "<AxesSubplot:xlabel='time'>"
      ]
     },
     "execution_count": 285,
     "metadata": {},
     "output_type": "execute_result"
    },
    {
     "data": {
      "image/png": "[encoded data removed]",
      "text/plain": [
       "<Figure size 432x288 with 1 Axes>"
      ]
     },
     "metadata": {
      "needs_background": "light"
     },
     "output_type": "display_data"
    }
   ],
   "source": [
    "tesla[\"pct_change of close\"].plot()"
   ]
  },
  {
   "cell_type": "code",
   "execution_count": 286,
   "metadata": {},
   "outputs": [],
   "source": [
    "tesla[\"log_volume\"] = np.log(tesla[\"volume\"])"
   ]
  },
  {
   "cell_type": "code",
   "execution_count": 287,
   "metadata": {},
   "outputs": [
    {
     "data": {
      "text/plain": [
       "<AxesSubplot:xlabel='time'>"
      ]
     },
     "execution_count": 287,
     "metadata": {},
     "output_type": "execute_result"
    },
    {
     "data": {
      "image/png": "[encoded data removed]",
      "text/plain": [
       "<Figure size 432x288 with 1 Axes>"
      ]
     },
     "metadata": {
      "needs_background": "light"
     },
     "output_type": "display_data"
    }
   ],
   "source": [
    "tesla[\"log_volume\"].plot()"
   ]
  },
  {
   "cell_type": "code",
   "execution_count": 288,
   "metadata": {},
   "outputs": [],
   "source": [
    "from sklearn.preprocessing import MinMaxScaler\n",
    "from sklearn.ensemble import RandomForestRegressor\n",
    "from sklearn.tree import DecisionTreeRegressor\n",
    "from sklearn.tree import _tree\n",
    "import statsmodels.api as sm\n",
    "from statsmodels.tsa.arima_model import ARIMA\n",
    "from sklearn.model_selection import train_test_split\n",
    "from sklearn.linear_model import LinearRegression\n",
    "from sklearn import metrics"
   ]
  },
  {
   "cell_type": "code",
   "execution_count": 289,
   "metadata": {},
   "outputs": [
    {
     "data": {
      "text/html": [
       "<div>\n",
       "<style scoped>\n",
       "    .dataframe tbody tr th:only-of-type {\n",
       "        vertical-align: middle;\n",
       "    }\n",
       "\n",
       "    .dataframe tbody tr th {\n",
       "        vertical-align: top;\n",
       "    }\n",
       "\n",
       "    .dataframe thead tr th {\n",
       "        text-align: left;\n",
       "    }\n",
       "</style>\n",
       "<table border=\"1\" class=\"dataframe\">\n",
       "  <thead>\n",
       "    <tr>\n",
       "      <th></th>\n",
       "      <th colspan=\"5\" halign=\"left\">TSLA</th>\n",
       "    </tr>\n",
       "    <tr>\n",
       "      <th></th>\n",
       "      <th>open</th>\n",
       "      <th>high</th>\n",
       "      <th>low</th>\n",
       "      <th>close</th>\n",
       "      <th>volume</th>\n",
       "    </tr>\n",
       "  </thead>\n",
       "  <tbody>\n",
       "    <tr>\n",
       "      <th>count</th>\n",
       "      <td>63.000000</td>\n",
       "      <td>63.000000</td>\n",
       "      <td>63.000000</td>\n",
       "      <td>63.000000</td>\n",
       "      <td>6.300000e+01</td>\n",
       "    </tr>\n",
       "    <tr>\n",
       "      <th>mean</th>\n",
       "      <td>618.973040</td>\n",
       "      <td>642.518432</td>\n",
       "      <td>597.033630</td>\n",
       "      <td>619.400841</td>\n",
       "      <td>2.155460e+07</td>\n",
       "    </tr>\n",
       "    <tr>\n",
       "      <th>std</th>\n",
       "      <td>148.945915</td>\n",
       "      <td>152.544978</td>\n",
       "      <td>142.379525</td>\n",
       "      <td>146.727962</td>\n",
       "      <td>1.087797e+07</td>\n",
       "    </tr>\n",
       "    <tr>\n",
       "      <th>min</th>\n",
       "      <td>374.696500</td>\n",
       "      <td>404.860000</td>\n",
       "      <td>350.510000</td>\n",
       "      <td>361.600000</td>\n",
       "      <td>9.113793e+06</td>\n",
       "    </tr>\n",
       "    <tr>\n",
       "      <th>25%</th>\n",
       "      <td>499.175000</td>\n",
       "      <td>515.064950</td>\n",
       "      <td>491.615000</td>\n",
       "      <td>507.245000</td>\n",
       "      <td>1.379213e+07</td>\n",
       "    </tr>\n",
       "    <tr>\n",
       "      <th>50%</th>\n",
       "      <td>575.690000</td>\n",
       "      <td>594.500000</td>\n",
       "      <td>558.080000</td>\n",
       "      <td>569.430000</td>\n",
       "      <td>1.685954e+07</td>\n",
       "    </tr>\n",
       "    <tr>\n",
       "      <th>75%</th>\n",
       "      <td>736.420000</td>\n",
       "      <td>784.823050</td>\n",
       "      <td>717.090300</td>\n",
       "      <td>748.240400</td>\n",
       "      <td>2.618818e+07</td>\n",
       "    </tr>\n",
       "    <tr>\n",
       "      <th>max</th>\n",
       "      <td>923.500000</td>\n",
       "      <td>968.989900</td>\n",
       "      <td>901.020000</td>\n",
       "      <td>916.960000</td>\n",
       "      <td>5.968636e+07</td>\n",
       "    </tr>\n",
       "  </tbody>\n",
       "</table>\n",
       "</div>"
      ],
      "text/plain": [
       "             TSLA                                                  \n",
       "             open        high         low       close        volume\n",
       "count   63.000000   63.000000   63.000000   63.000000  6.300000e+01\n",
       "mean   618.973040  642.518432  597.033630  619.400841  2.155460e+07\n",
       "std    148.945915  152.544978  142.379525  146.727962  1.087797e+07\n",
       "min    374.696500  404.860000  350.510000  361.600000  9.113793e+06\n",
       "25%    499.175000  515.064950  491.615000  507.245000  1.379213e+07\n",
       "50%    575.690000  594.500000  558.080000  569.430000  1.685954e+07\n",
       "75%    736.420000  784.823050  717.090300  748.240400  2.618818e+07\n",
       "max    923.500000  968.989900  901.020000  916.960000  5.968636e+07"
      ]
     },
     "execution_count": 289,
     "metadata": {},
     "output_type": "execute_result"
    }
   ],
   "source": [
    "df.describe()"
   ]
  },
  {
   "cell_type": "code",
   "execution_count": 290,
   "metadata": {},
   "outputs": [
    {
     "name": "stdout",
     "output_type": "stream",
     "text": [
      "<class 'pandas.core.frame.DataFrame'>\n",
      "DatetimeIndex: 63 entries, 2020-01-02 00:00:00-05:00 to 2020-04-01 00:00:00-04:00\n",
      "Data columns (total 5 columns):\n",
      " #   Column          Non-Null Count  Dtype  \n",
      "---  ------          --------------  -----  \n",
      " 0   (TSLA, open)    63 non-null     float64\n",
      " 1   (TSLA, high)    63 non-null     float64\n",
      " 2   (TSLA, low)     63 non-null     float64\n",
      " 3   (TSLA, close)   63 non-null     float64\n",
      " 4   (TSLA, volume)  63 non-null     int64  \n",
      "dtypes: float64(4), int64(1)\n",
      "memory usage: 3.0 KB\n"
     ]
    }
   ],
   "source": [
    "df.info()"
   ]
  },
  {
   "cell_type": "code",
   "execution_count": 291,
   "metadata": {},
   "outputs": [],
   "source": [
    "x = tesla[['high', 'low', 'open', 'volume']].values\n",
    "y = tesla['close']"
   ]
  },
  {
   "cell_type": "code",
   "execution_count": 292,
   "metadata": {},
   "outputs": [],
   "source": [
    "X_train, X_test, y_train, y_test = train_test_split(x,y, \n",
    "                                                    test_size=0.3, random_state=42)"
   ]
  },
  {
   "cell_type": "code",
   "execution_count": 293,
   "metadata": {},
   "outputs": [
    {
     "data": {
      "text/plain": [
       "LinearRegression()"
      ]
     },
     "execution_count": 293,
     "metadata": {},
     "output_type": "execute_result"
    }
   ],
   "source": [
    "reg = LinearRegression()\n",
    "reg.fit(X_train,y_train)"
   ]
  },
  {
   "cell_type": "code",
   "execution_count": 294,
   "metadata": {},
   "outputs": [
    {
     "name": "stdout",
     "output_type": "stream",
     "text": [
      "[ 6.81658173e-01  8.05953335e-01 -4.80900670e-01 -9.05329453e-08]\n"
     ]
    }
   ],
   "source": [
    "print(reg.coef_)"
   ]
  },
  {
   "cell_type": "code",
   "execution_count": 295,
   "metadata": {},
   "outputs": [
    {
     "name": "stdout",
     "output_type": "stream",
     "text": [
      "-0.7252945187767637\n"
     ]
    }
   ],
   "source": [
    "print(reg.intercept_)"
   ]
  },
  {
   "cell_type": "code",
   "execution_count": 296,
   "metadata": {},
   "outputs": [],
   "source": [
    "predicted = reg.predict(X_test)"
   ]
  },
  {
   "cell_type": "code",
   "execution_count": 297,
   "metadata": {},
   "outputs": [
    {
     "data": {
      "text/plain": [
       "time\n",
       "2020-03-31 00:00:00-04:00    524.4800\n",
       "2020-03-25 00:00:00-04:00    539.1750\n",
       "2020-01-02 00:00:00-05:00    430.2400\n",
       "2020-03-05 00:00:00-05:00    723.6200\n",
       "2020-01-09 00:00:00-05:00    481.4900\n",
       "2020-02-25 00:00:00-05:00    799.1100\n",
       "2020-01-27 00:00:00-05:00    557.5400\n",
       "2020-01-21 00:00:00-05:00    547.3007\n",
       "2020-02-07 00:00:00-05:00    747.9808\n",
       "2020-03-30 00:00:00-04:00    502.1000\n",
       "2020-03-23 00:00:00-04:00    434.2900\n",
       "2020-01-15 00:00:00-05:00    518.5050\n",
       "2020-03-02 00:00:00-05:00    743.6900\n",
       "2020-01-22 00:00:00-05:00    569.4300\n",
       "2020-02-21 00:00:00-05:00    901.0000\n",
       "2020-03-13 00:00:00-04:00    546.2000\n",
       "2020-01-07 00:00:00-05:00    469.1700\n",
       "2020-01-28 00:00:00-05:00    566.8200\n",
       "2020-03-12 00:00:00-04:00    556.0100\n",
       "Name: close, dtype: float64"
      ]
     },
     "execution_count": 297,
     "metadata": {},
     "output_type": "execute_result"
    }
   ],
   "source": [
    "y_test"
   ]
  },
  {
   "cell_type": "code",
   "execution_count": 66,
   "metadata": {},
   "outputs": [
    {
     "data": {
      "text/html": [
       "<div>\n",
       "<style scoped>\n",
       "    .dataframe tbody tr th:only-of-type {\n",
       "        vertical-align: middle;\n",
       "    }\n",
       "\n",
       "    .dataframe tbody tr th {\n",
       "        vertical-align: top;\n",
       "    }\n",
       "\n",
       "    .dataframe thead th {\n",
       "        text-align: right;\n",
       "    }\n",
       "</style>\n",
       "<table border=\"1\" class=\"dataframe\">\n",
       "  <thead>\n",
       "    <tr style=\"text-align: right;\">\n",
       "      <th></th>\n",
       "      <th>close</th>\n",
       "      <th>predicted</th>\n",
       "    </tr>\n",
       "  </thead>\n",
       "  <tbody>\n",
       "    <tr>\n",
       "      <th>0</th>\n",
       "      <td>524.4800</td>\n",
       "      <td>527.487369</td>\n",
       "    </tr>\n",
       "    <tr>\n",
       "      <th>1</th>\n",
       "      <td>539.1750</td>\n",
       "      <td>526.962472</td>\n",
       "    </tr>\n",
       "    <tr>\n",
       "      <th>2</th>\n",
       "      <td>430.2400</td>\n",
       "      <td>427.655597</td>\n",
       "    </tr>\n",
       "    <tr>\n",
       "      <th>3</th>\n",
       "      <td>723.6200</td>\n",
       "      <td>737.575920</td>\n",
       "    </tr>\n",
       "    <tr>\n",
       "      <th>4</th>\n",
       "      <td>481.4900</td>\n",
       "      <td>478.900323</td>\n",
       "    </tr>\n",
       "    <tr>\n",
       "      <th>5</th>\n",
       "      <td>799.1100</td>\n",
       "      <td>807.727876</td>\n",
       "    </tr>\n",
       "    <tr>\n",
       "      <th>6</th>\n",
       "      <td>557.5400</td>\n",
       "      <td>556.966766</td>\n",
       "    </tr>\n",
       "    <tr>\n",
       "      <th>7</th>\n",
       "      <td>547.3007</td>\n",
       "      <td>540.913542</td>\n",
       "    </tr>\n",
       "    <tr>\n",
       "      <th>8</th>\n",
       "      <td>747.9808</td>\n",
       "      <td>759.372370</td>\n",
       "    </tr>\n",
       "    <tr>\n",
       "      <th>9</th>\n",
       "      <td>502.1000</td>\n",
       "      <td>501.081302</td>\n",
       "    </tr>\n",
       "    <tr>\n",
       "      <th>10</th>\n",
       "      <td>434.2900</td>\n",
       "      <td>421.597079</td>\n",
       "    </tr>\n",
       "    <tr>\n",
       "      <th>11</th>\n",
       "      <td>518.5050</td>\n",
       "      <td>526.190996</td>\n",
       "    </tr>\n",
       "    <tr>\n",
       "      <th>12</th>\n",
       "      <td>743.6900</td>\n",
       "      <td>715.971863</td>\n",
       "    </tr>\n",
       "    <tr>\n",
       "      <th>13</th>\n",
       "      <td>569.4300</td>\n",
       "      <td>574.382460</td>\n",
       "    </tr>\n",
       "    <tr>\n",
       "      <th>14</th>\n",
       "      <td>901.0000</td>\n",
       "      <td>890.596128</td>\n",
       "    </tr>\n",
       "    <tr>\n",
       "      <th>15</th>\n",
       "      <td>546.2000</td>\n",
       "      <td>530.214325</td>\n",
       "    </tr>\n",
       "    <tr>\n",
       "      <th>16</th>\n",
       "      <td>469.1700</td>\n",
       "      <td>462.723560</td>\n",
       "    </tr>\n",
       "    <tr>\n",
       "      <th>17</th>\n",
       "      <td>566.8200</td>\n",
       "      <td>567.959696</td>\n",
       "    </tr>\n",
       "    <tr>\n",
       "      <th>18</th>\n",
       "      <td>556.0100</td>\n",
       "      <td>564.345529</td>\n",
       "    </tr>\n",
       "  </tbody>\n",
       "</table>\n",
       "</div>"
      ],
      "text/plain": [
       "       close   predicted\n",
       "0   524.4800  527.487369\n",
       "1   539.1750  526.962472\n",
       "2   430.2400  427.655597\n",
       "3   723.6200  737.575920\n",
       "4   481.4900  478.900323\n",
       "5   799.1100  807.727876\n",
       "6   557.5400  556.966766\n",
       "7   547.3007  540.913542\n",
       "8   747.9808  759.372370\n",
       "9   502.1000  501.081302\n",
       "10  434.2900  421.597079\n",
       "11  518.5050  526.190996\n",
       "12  743.6900  715.971863\n",
       "13  569.4300  574.382460\n",
       "14  901.0000  890.596128\n",
       "15  546.2000  530.214325\n",
       "16  469.1700  462.723560\n",
       "17  566.8200  567.959696\n",
       "18  556.0100  564.345529"
      ]
     },
     "execution_count": 66,
     "metadata": {},
     "output_type": "execute_result"
    }
   ],
   "source": [
    "reg_result = pd.DataFrame(np.array(y_test))\n",
    "\n",
    "reg_result[\"predicted\"] = predicted\n",
    "reg_result.columns = [\"close\",\"predicted\"]\n",
    "reg_result"
   ]
  },
  {
   "cell_type": "code",
   "execution_count": 70,
   "metadata": {},
   "outputs": [
    {
     "name": "stdout",
     "output_type": "stream",
     "text": [
      "Mean Absolute Error: 8.299955785757689\n",
      "Mean Squared Error: 110.61404287618495\n",
      "Root Mean Squared Error: 10.517321088384863\n"
     ]
    }
   ],
   "source": [
    "print(\"Mean Absolute Error:\", metrics.mean_absolute_error(reg_result.close,reg_result.predicted))\n",
    "print(\"Mean Squared Error:\", metrics.mean_squared_error(reg_result.close,reg_result.predicted))\n",
    "print(\"Root Mean Squared Error:\", np.sqrt(metrics.mean_squared_error(reg_result.close,reg_result.predicted)))\n",
    "\n"
   ]
  },
  {
   "cell_type": "code",
   "execution_count": 71,
   "metadata": {},
   "outputs": [
    {
     "data": {
      "text/plain": [
       "<AxesSubplot:>"
      ]
     },
     "execution_count": 71,
     "metadata": {},
     "output_type": "execute_result"
    },
    {
     "data": {
      "image/png": "[encoded data removed]",
      "text/plain": [
       "<Figure size 432x288 with 1 Axes>"
      ]
     },
     "metadata": {
      "needs_background": "light"
     },
     "output_type": "display_data"
    }
   ],
   "source": [
    "reg_result.plot(kind=\"bar\")"
   ]
  },
  {
   "cell_type": "code",
   "execution_count": 73,
   "metadata": {},
   "outputs": [
    {
     "data": {
      "text/html": [
       "<div>\n",
       "<style scoped>\n",
       "    .dataframe tbody tr th:only-of-type {\n",
       "        vertical-align: middle;\n",
       "    }\n",
       "\n",
       "    .dataframe tbody tr th {\n",
       "        vertical-align: top;\n",
       "    }\n",
       "\n",
       "    .dataframe thead th {\n",
       "        text-align: right;\n",
       "    }\n",
       "</style>\n",
       "<table border=\"1\" class=\"dataframe\">\n",
       "  <thead>\n",
       "    <tr style=\"text-align: right;\">\n",
       "      <th></th>\n",
       "      <th>open</th>\n",
       "      <th>high</th>\n",
       "      <th>low</th>\n",
       "      <th>close</th>\n",
       "      <th>volume</th>\n",
       "      <th>pct_change of close</th>\n",
       "      <th>log_volume</th>\n",
       "    </tr>\n",
       "    <tr>\n",
       "      <th>time</th>\n",
       "      <th></th>\n",
       "      <th></th>\n",
       "      <th></th>\n",
       "      <th></th>\n",
       "      <th></th>\n",
       "      <th></th>\n",
       "      <th></th>\n",
       "    </tr>\n",
       "  </thead>\n",
       "  <tbody>\n",
       "    <tr>\n",
       "      <th>2020-01-02 00:00:00-05:00</th>\n",
       "      <td>424.95</td>\n",
       "      <td>430.6957</td>\n",
       "      <td>421.71</td>\n",
       "      <td>430.24</td>\n",
       "      <td>9113793</td>\n",
       "      <td>NaN</td>\n",
       "      <td>16.0253</td>\n",
       "    </tr>\n",
       "  </tbody>\n",
       "</table>\n",
       "</div>"
      ],
      "text/plain": [
       "                             open      high     low   close   volume  \\\n",
       "time                                                                   \n",
       "2020-01-02 00:00:00-05:00  424.95  430.6957  421.71  430.24  9113793   \n",
       "\n",
       "                           pct_change of close  log_volume  \n",
       "time                                                        \n",
       "2020-01-02 00:00:00-05:00                  NaN     16.0253  "
      ]
     },
     "execution_count": 73,
     "metadata": {},
     "output_type": "execute_result"
    }
   ],
   "source": [
    "tesla.head(1)"
   ]
  },
  {
   "cell_type": "code",
   "execution_count": 109,
   "metadata": {},
   "outputs": [
    {
     "name": "stdout",
     "output_type": "stream",
     "text": [
      "Mean Absolute Error: 9.142316934429067\n",
      "Mean Squared Error: 176.8435806297217\n",
      "Root Mean Squared Error: 13.298254796390454\n"
     ]
    },
    {
     "data": {
      "text/plain": [
       "<AxesSubplot:>"
      ]
     },
     "execution_count": 109,
     "metadata": {},
     "output_type": "execute_result"
    },
    {
     "data": {
      "image/png": "[encoded data removed]",
      "text/plain": [
       "<Figure size 432x288 with 1 Axes>"
      ]
     },
     "metadata": {
      "needs_background": "light"
     },
     "output_type": "display_data"
    }
   ],
   "source": [
    "tesla_model2 = tesla.dropna()\n",
    "x = tesla_model2[['high', 'low', 'open', 'volume','pct_change of close']].values\n",
    "y = tesla_model2['close']\n",
    "X_train, X_test, y_train, y_test = train_test_split(x,y, \n",
    "                                                    test_size=0.3, random_state=42)\n",
    "reg = LinearRegression()\n",
    "reg.fit(X_train,y_train)\n",
    "predicted = reg.predict(X_test)\n",
    "reg_result = pd.DataFrame(np.array(y_test))\n",
    "\n",
    "reg_result[\"predicted\"] = predicted\n",
    "reg_result.columns = [\"close\",\"predicted\"]\n",
    "reg_result\n",
    "print(\"Mean Absolute Error:\", metrics.mean_absolute_error(reg_result.close,reg_result.predicted))\n",
    "print(\"Mean Squared Error:\", metrics.mean_squared_error(reg_result.close,reg_result.predicted))\n",
    "print(\"Root Mean Squared Error:\", np.sqrt(metrics.mean_squared_error(reg_result.close,reg_result.predicted)))\n",
    "\n",
    "\n",
    "\n",
    "reg_result.plot(kind=\"bar\")"
   ]
  },
  {
   "cell_type": "code",
   "execution_count": 112,
   "metadata": {},
   "outputs": [
    {
     "name": "stdout",
     "output_type": "stream",
     "text": [
      "Mean Absolute Error: 9.264645412869601\n",
      "Mean Squared Error: 191.61828280123453\n",
      "Root Mean Squared Error: 13.842625574696244\n"
     ]
    },
    {
     "data": {
      "text/plain": [
       "<AxesSubplot:>"
      ]
     },
     "execution_count": 112,
     "metadata": {},
     "output_type": "execute_result"
    },
    {
     "data": {
      "image/png": "[encoded data removed]",
      "text/plain": [
       "<Figure size 432x288 with 1 Axes>"
      ]
     },
     "metadata": {
      "needs_background": "light"
     },
     "output_type": "display_data"
    }
   ],
   "source": [
    "tesla_model3 = tesla.dropna()\n",
    "x = tesla_model3[['high', 'low', 'open', 'log_volume']].values\n",
    "y = tesla_model3['close']\n",
    "X_train, X_test, y_train, y_test = train_test_split(x,y, \n",
    "                                                    test_size=0.3, random_state=42)\n",
    "reg = LinearRegression()\n",
    "reg.fit(X_train,y_train)\n",
    "predicted = reg.predict(X_test)\n",
    "reg_result = pd.DataFrame(np.array(y_test))\n",
    "\n",
    "reg_result[\"predicted\"] = predicted\n",
    "reg_result.columns = [\"close\",\"predicted\"]\n",
    "reg_result\n",
    "print(\"Mean Absolute Error:\", metrics.mean_absolute_error(reg_result.close,reg_result.predicted))\n",
    "print(\"Mean Squared Error:\", metrics.mean_squared_error(reg_result.close,reg_result.predicted))\n",
    "print(\"Root Mean Squared Error:\", np.sqrt(metrics.mean_squared_error(reg_result.close,reg_result.predicted)))\n",
    "\n",
    "\n",
    "\n",
    "reg_result.plot(kind=\"bar\")"
   ]
  },
  {
   "cell_type": "code",
   "execution_count": 113,
   "metadata": {},
   "outputs": [
    {
     "name": "stdout",
     "output_type": "stream",
     "text": [
      "Mean Absolute Error: 13.760666421282798\n",
      "Mean Squared Error: 289.46203133898644\n",
      "Root Mean Squared Error: 17.013583730037197\n"
     ]
    },
    {
     "data": {
      "text/plain": [
       "<AxesSubplot:>"
      ]
     },
     "execution_count": 113,
     "metadata": {},
     "output_type": "execute_result"
    },
    {
     "data": {
      "image/png": "[encoded data removed]",
      "text/plain": [
       "<Figure size 432x288 with 1 Axes>"
      ]
     },
     "metadata": {
      "needs_background": "light"
     },
     "output_type": "display_data"
    }
   ],
   "source": [
    "tesla_model4 = tesla.dropna()\n",
    "x = tesla_model4[['open', 'volume','pct_change of close']].values\n",
    "y = tesla_model4['close']\n",
    "X_train, X_test, y_train, y_test = train_test_split(x,y, \n",
    "                                                    test_size=0.3, random_state=42)\n",
    "reg = LinearRegression()\n",
    "reg.fit(X_train,y_train)\n",
    "predicted = reg.predict(X_test)\n",
    "reg_result = pd.DataFrame(np.array(y_test))\n",
    "\n",
    "reg_result[\"predicted\"] = predicted\n",
    "reg_result.columns = [\"close\",\"predicted\"]\n",
    "reg_result\n",
    "print(\"Mean Absolute Error:\", metrics.mean_absolute_error(reg_result.close,reg_result.predicted))\n",
    "print(\"Mean Squared Error:\", metrics.mean_squared_error(reg_result.close,reg_result.predicted))\n",
    "print(\"Root Mean Squared Error:\", np.sqrt(metrics.mean_squared_error(reg_result.close,reg_result.predicted)))\n",
    "\n",
    "\n",
    "\n",
    "reg_result.plot(kind=\"bar\")"
   ]
  },
  {
   "cell_type": "markdown",
   "metadata": {},
   "source": [
    "Random Selection of Points show the predcited values are closely aligned with the close values. We see that if the values are provided we can fairly accuractley calculate the close price of the day. We see that adding the previous dys percent cange does not increase predictive power of the model, additionally looking at the lof of volume also did not increase the modl predictiveness. "
   ]
  },
  {
   "cell_type": "markdown",
   "metadata": {},
   "source": [
    "# Random Forest Regression"
   ]
  },
  {
   "cell_type": "code",
   "execution_count": 298,
   "metadata": {},
   "outputs": [
    {
     "name": "stdout",
     "output_type": "stream",
     "text": [
      "Mean Absolute Error: 12.978017473683959\n",
      "Mean Squared Error: 241.67664852413137\n",
      "Root Mean Squared Error: 15.545952802068175\n"
     ]
    },
    {
     "data": {
      "text/plain": [
       "<AxesSubplot:>"
      ]
     },
     "execution_count": 298,
     "metadata": {},
     "output_type": "execute_result"
    },
    {
     "data": {
      "image/png": "[encoded data removed]",
      "text/plain": [
       "<Figure size 432x288 with 1 Axes>"
      ]
     },
     "metadata": {
      "needs_background": "light"
     },
     "output_type": "display_data"
    }
   ],
   "source": [
    "tesla_model = tesla.dropna()\n",
    "x = tesla_model[['high', 'low', 'open', 'volume']].values\n",
    "y = tesla_model['close']\n",
    "X_train, X_test, y_train, y_test = train_test_split(x,y, \n",
    "                                                    test_size=0.3, random_state=42)\n",
    "reg = RandomForestRegressor(random_state=42)\n",
    "reg.fit(X_train,y_train)\n",
    "predicted = reg.predict(X_test)\n",
    "reg_result = pd.DataFrame(np.array(y_test))\n",
    "\n",
    "reg_result[\"predicted\"] = predicted\n",
    "reg_result.columns = [\"close\",\"predicted\"]\n",
    "reg_result\n",
    "print(\"Mean Absolute Error:\", metrics.mean_absolute_error(reg_result.close,reg_result.predicted))\n",
    "print(\"Mean Squared Error:\", metrics.mean_squared_error(reg_result.close,reg_result.predicted))\n",
    "print(\"Root Mean Squared Error:\", np.sqrt(metrics.mean_squared_error(reg_result.close,reg_result.predicted)))\n",
    "\n",
    "\n",
    "\n",
    "reg_result.plot(kind=\"bar\")\n"
   ]
  },
  {
   "cell_type": "code",
   "execution_count": 299,
   "metadata": {},
   "outputs": [
    {
     "data": {
      "text/html": [
       "<div>\n",
       "<style scoped>\n",
       "    .dataframe tbody tr th:only-of-type {\n",
       "        vertical-align: middle;\n",
       "    }\n",
       "\n",
       "    .dataframe tbody tr th {\n",
       "        vertical-align: top;\n",
       "    }\n",
       "\n",
       "    .dataframe thead th {\n",
       "        text-align: right;\n",
       "    }\n",
       "</style>\n",
       "<table border=\"1\" class=\"dataframe\">\n",
       "  <thead>\n",
       "    <tr style=\"text-align: right;\">\n",
       "      <th></th>\n",
       "      <th>open</th>\n",
       "      <th>high</th>\n",
       "      <th>low</th>\n",
       "      <th>close</th>\n",
       "      <th>volume</th>\n",
       "      <th>pct_change of close</th>\n",
       "      <th>log_volume</th>\n",
       "    </tr>\n",
       "    <tr>\n",
       "      <th>time</th>\n",
       "      <th></th>\n",
       "      <th></th>\n",
       "      <th></th>\n",
       "      <th></th>\n",
       "      <th></th>\n",
       "      <th></th>\n",
       "      <th></th>\n",
       "    </tr>\n",
       "  </thead>\n",
       "  <tbody>\n",
       "    <tr>\n",
       "      <th>2020-01-02 00:00:00-05:00</th>\n",
       "      <td>424.95</td>\n",
       "      <td>430.6957</td>\n",
       "      <td>421.710</td>\n",
       "      <td>430.2400</td>\n",
       "      <td>9113793</td>\n",
       "      <td>0.029077</td>\n",
       "      <td>16.025300</td>\n",
       "    </tr>\n",
       "    <tr>\n",
       "      <th>2020-01-03 00:00:00-05:00</th>\n",
       "      <td>440.50</td>\n",
       "      <td>454.0000</td>\n",
       "      <td>436.920</td>\n",
       "      <td>442.7500</td>\n",
       "      <td>16409329</td>\n",
       "      <td>0.019537</td>\n",
       "      <td>16.613361</td>\n",
       "    </tr>\n",
       "    <tr>\n",
       "      <th>2020-01-06 00:00:00-05:00</th>\n",
       "      <td>440.47</td>\n",
       "      <td>451.5600</td>\n",
       "      <td>440.000</td>\n",
       "      <td>451.4001</td>\n",
       "      <td>9807049</td>\n",
       "      <td>0.039366</td>\n",
       "      <td>16.098612</td>\n",
       "    </tr>\n",
       "    <tr>\n",
       "      <th>2020-01-07 00:00:00-05:00</th>\n",
       "      <td>461.40</td>\n",
       "      <td>471.6300</td>\n",
       "      <td>453.355</td>\n",
       "      <td>469.1700</td>\n",
       "      <td>16859537</td>\n",
       "      <td>0.048852</td>\n",
       "      <td>16.640427</td>\n",
       "    </tr>\n",
       "    <tr>\n",
       "      <th>2020-01-08 00:00:00-05:00</th>\n",
       "      <td>473.70</td>\n",
       "      <td>498.4900</td>\n",
       "      <td>468.230</td>\n",
       "      <td>492.0900</td>\n",
       "      <td>29804104</td>\n",
       "      <td>-0.021541</td>\n",
       "      <td>17.210157</td>\n",
       "    </tr>\n",
       "    <tr>\n",
       "      <th>...</th>\n",
       "      <td>...</td>\n",
       "      <td>...</td>\n",
       "      <td>...</td>\n",
       "      <td>...</td>\n",
       "      <td>...</td>\n",
       "      <td>...</td>\n",
       "      <td>...</td>\n",
       "    </tr>\n",
       "    <tr>\n",
       "      <th>2020-03-25 00:00:00-04:00</th>\n",
       "      <td>545.25</td>\n",
       "      <td>557.0000</td>\n",
       "      <td>511.110</td>\n",
       "      <td>539.1750</td>\n",
       "      <td>19706795</td>\n",
       "      <td>-0.020633</td>\n",
       "      <td>16.796474</td>\n",
       "    </tr>\n",
       "    <tr>\n",
       "      <th>2020-03-26 00:00:00-04:00</th>\n",
       "      <td>547.39</td>\n",
       "      <td>560.0000</td>\n",
       "      <td>512.250</td>\n",
       "      <td>528.0500</td>\n",
       "      <td>16688863</td>\n",
       "      <td>-0.025547</td>\n",
       "      <td>16.630252</td>\n",
       "    </tr>\n",
       "    <tr>\n",
       "      <th>2020-03-27 00:00:00-04:00</th>\n",
       "      <td>505.00</td>\n",
       "      <td>525.8000</td>\n",
       "      <td>494.030</td>\n",
       "      <td>514.5600</td>\n",
       "      <td>13608376</td>\n",
       "      <td>-0.024215</td>\n",
       "      <td>16.426196</td>\n",
       "    </tr>\n",
       "    <tr>\n",
       "      <th>2020-03-30 00:00:00-04:00</th>\n",
       "      <td>510.26</td>\n",
       "      <td>516.6471</td>\n",
       "      <td>491.230</td>\n",
       "      <td>502.1000</td>\n",
       "      <td>11162231</td>\n",
       "      <td>0.044573</td>\n",
       "      <td>16.228046</td>\n",
       "    </tr>\n",
       "    <tr>\n",
       "      <th>2020-03-31 00:00:00-04:00</th>\n",
       "      <td>501.25</td>\n",
       "      <td>542.9600</td>\n",
       "      <td>497.000</td>\n",
       "      <td>524.4800</td>\n",
       "      <td>16421035</td>\n",
       "      <td>-0.081795</td>\n",
       "      <td>16.614074</td>\n",
       "    </tr>\n",
       "  </tbody>\n",
       "</table>\n",
       "<p>62 rows × 7 columns</p>\n",
       "</div>"
      ],
      "text/plain": [
       "                             open      high      low     close    volume  \\\n",
       "time                                                                       \n",
       "2020-01-02 00:00:00-05:00  424.95  430.6957  421.710  430.2400   9113793   \n",
       "2020-01-03 00:00:00-05:00  440.50  454.0000  436.920  442.7500  16409329   \n",
       "2020-01-06 00:00:00-05:00  440.47  451.5600  440.000  451.4001   9807049   \n",
       "2020-01-07 00:00:00-05:00  461.40  471.6300  453.355  469.1700  16859537   \n",
       "2020-01-08 00:00:00-05:00  473.70  498.4900  468.230  492.0900  29804104   \n",
       "...                           ...       ...      ...       ...       ...   \n",
       "2020-03-25 00:00:00-04:00  545.25  557.0000  511.110  539.1750  19706795   \n",
       "2020-03-26 00:00:00-04:00  547.39  560.0000  512.250  528.0500  16688863   \n",
       "2020-03-27 00:00:00-04:00  505.00  525.8000  494.030  514.5600  13608376   \n",
       "2020-03-30 00:00:00-04:00  510.26  516.6471  491.230  502.1000  11162231   \n",
       "2020-03-31 00:00:00-04:00  501.25  542.9600  497.000  524.4800  16421035   \n",
       "\n",
       "                           pct_change of close  log_volume  \n",
       "time                                                        \n",
       "2020-01-02 00:00:00-05:00             0.029077   16.025300  \n",
       "2020-01-03 00:00:00-05:00             0.019537   16.613361  \n",
       "2020-01-06 00:00:00-05:00             0.039366   16.098612  \n",
       "2020-01-07 00:00:00-05:00             0.048852   16.640427  \n",
       "2020-01-08 00:00:00-05:00            -0.021541   17.210157  \n",
       "...                                        ...         ...  \n",
       "2020-03-25 00:00:00-04:00            -0.020633   16.796474  \n",
       "2020-03-26 00:00:00-04:00            -0.025547   16.630252  \n",
       "2020-03-27 00:00:00-04:00            -0.024215   16.426196  \n",
       "2020-03-30 00:00:00-04:00             0.044573   16.228046  \n",
       "2020-03-31 00:00:00-04:00            -0.081795   16.614074  \n",
       "\n",
       "[62 rows x 7 columns]"
      ]
     },
     "execution_count": 299,
     "metadata": {},
     "output_type": "execute_result"
    }
   ],
   "source": [
    "tesla_model"
   ]
  },
  {
   "cell_type": "code",
   "execution_count": 300,
   "metadata": {},
   "outputs": [
    {
     "name": "stdout",
     "output_type": "stream",
     "text": [
      "Mean Absolute Error: 13.57291010526293\n",
      "Mean Squared Error: 239.27300565425531\n",
      "Root Mean Squared Error: 15.468451947569134\n"
     ]
    },
    {
     "data": {
      "text/plain": [
       "<AxesSubplot:>"
      ]
     },
     "execution_count": 300,
     "metadata": {},
     "output_type": "execute_result"
    },
    {
     "data": {
      "image/png": "[encoded data removed]",
      "text/plain": [
       "<Figure size 432x288 with 1 Axes>"
      ]
     },
     "metadata": {
      "needs_background": "light"
     },
     "output_type": "display_data"
    }
   ],
   "source": [
    "tesla_model = tesla.dropna()\n",
    "x = tesla_model[['high', 'low', 'open', 'volume',\"pct_change of close\"]].values\n",
    "y = tesla_model['close']\n",
    "X_train, X_test, y_train, y_test = train_test_split(x,y, \n",
    "                                                    test_size=0.3, random_state=42)\n",
    "reg = RandomForestRegressor(random_state=42)\n",
    "reg.fit(X_train,y_train)\n",
    "predicted = reg.predict(X_test)\n",
    "reg_result = pd.DataFrame(np.array(y_test))\n",
    "\n",
    "reg_result[\"predicted\"] = predicted\n",
    "reg_result.columns = [\"close\",\"predicted\"]\n",
    "reg_result\n",
    "print(\"Mean Absolute Error:\", metrics.mean_absolute_error(reg_result.close,reg_result.predicted))\n",
    "print(\"Mean Squared Error:\", metrics.mean_squared_error(reg_result.close,reg_result.predicted))\n",
    "print(\"Root Mean Squared Error:\", np.sqrt(metrics.mean_squared_error(reg_result.close,reg_result.predicted)))\n",
    "\n",
    "\n",
    "\n",
    "reg_result.plot(kind=\"bar\")\n",
    "\n"
   ]
  },
  {
   "cell_type": "markdown",
   "metadata": {},
   "source": [
    "We see similar result with a random forest regression as we do in linear regression. Given the simplicity of the regression model, it is preferred. "
   ]
  },
  {
   "cell_type": "markdown",
   "metadata": {},
   "source": [
    "# ARIMA"
   ]
  },
  {
   "cell_type": "code",
   "execution_count": 179,
   "metadata": {},
   "outputs": [],
   "source": [
    "tesla = df.xs('TSLA', axis=1)"
   ]
  },
  {
   "cell_type": "code",
   "execution_count": 180,
   "metadata": {},
   "outputs": [
    {
     "data": {
      "text/plain": [
       "<AxesSubplot:xlabel='y(t)', ylabel='y(t + 2)'>"
      ]
     },
     "execution_count": 180,
     "metadata": {},
     "output_type": "execute_result"
    },
    {
     "data": {
      "image/png": "[encoded data removed]",
      "text/plain": [
       "<Figure size 432x288 with 1 Axes>"
      ]
     },
     "metadata": {
      "needs_background": "light"
     },
     "output_type": "display_data"
    }
   ],
   "source": [
    "from pandas.plotting import lag_plot\n",
    "\n",
    "plt.figure()\n",
    "lag_plot(tesla[\"close\"], lag=2)"
   ]
  },
  {
   "cell_type": "code",
   "execution_count": null,
   "metadata": {},
   "outputs": [],
   "source": []
  },
  {
   "cell_type": "code",
   "execution_count": 181,
   "metadata": {},
   "outputs": [],
   "source": [
    "tesla_test = tesla.iloc[-20:]\n",
    "tesla_train = tesla.iloc[:-20]"
   ]
  },
  {
   "cell_type": "code",
   "execution_count": null,
   "metadata": {},
   "outputs": [],
   "source": []
  },
  {
   "cell_type": "code",
   "execution_count": 182,
   "metadata": {},
   "outputs": [
    {
     "name": "stderr",
     "output_type": "stream",
     "text": [
      "/Users/ryanlee/opt/anaconda3/lib/python3.8/site-packages/statsmodels/tsa/base/tsa_model.py:581: ValueWarning: A date index has been provided, but it has no associated frequency information and so will be ignored when e.g. forecasting.\n",
      "  warnings.warn('A date index has been provided, but it has no'\n",
      "/Users/ryanlee/opt/anaconda3/lib/python3.8/site-packages/statsmodels/tsa/base/tsa_model.py:581: ValueWarning: A date index has been provided, but it has no associated frequency information and so will be ignored when e.g. forecasting.\n",
      "  warnings.warn('A date index has been provided, but it has no'\n"
     ]
    }
   ],
   "source": [
    "model = ARIMA(tesla_train[\"close\"],order=(1, 1, 0))"
   ]
  },
  {
   "cell_type": "code",
   "execution_count": 183,
   "metadata": {},
   "outputs": [],
   "source": [
    "results = model.fit()"
   ]
  },
  {
   "cell_type": "code",
   "execution_count": 184,
   "metadata": {},
   "outputs": [
    {
     "data": {
      "text/html": [
       "<table class=\"simpletable\">\n",
       "<caption>ARIMA Model Results</caption>\n",
       "<tr>\n",
       "  <th>Dep. Variable:</th>      <td>D.close</td>     <th>  No. Observations:  </th>    <td>42</td>   \n",
       "</tr>\n",
       "<tr>\n",
       "  <th>Model:</th>          <td>ARIMA(1, 1, 0)</td>  <th>  Log Likelihood     </th> <td>-220.778</td>\n",
       "</tr>\n",
       "<tr>\n",
       "  <th>Method:</th>             <td>css-mle</td>     <th>  S.D. of innovations</th>  <td>46.417</td> \n",
       "</tr>\n",
       "<tr>\n",
       "  <th>Date:</th>          <td>Mon, 05 Apr 2021</td> <th>  AIC                </th>  <td>447.557</td>\n",
       "</tr>\n",
       "<tr>\n",
       "  <th>Time:</th>              <td>21:18:53</td>     <th>  BIC                </th>  <td>452.770</td>\n",
       "</tr>\n",
       "<tr>\n",
       "  <th>Sample:</th>                <td>1</td>        <th>  HQIC               </th>  <td>449.467</td>\n",
       "</tr>\n",
       "<tr>\n",
       "  <th></th>                       <td> </td>        <th>                     </th>     <td> </td>   \n",
       "</tr>\n",
       "</table>\n",
       "<table class=\"simpletable\">\n",
       "<tr>\n",
       "        <td></td>           <th>coef</th>     <th>std err</th>      <th>z</th>      <th>P>|z|</th>  <th>[0.025</th>    <th>0.975]</th>  \n",
       "</tr>\n",
       "<tr>\n",
       "  <th>const</th>         <td>    7.6031</td> <td>    7.512</td> <td>    1.012</td> <td> 0.311</td> <td>   -7.120</td> <td>   22.326</td>\n",
       "</tr>\n",
       "<tr>\n",
       "  <th>ar.L1.D.close</th> <td>    0.0477</td> <td>    0.152</td> <td>    0.313</td> <td> 0.754</td> <td>   -0.251</td> <td>    0.346</td>\n",
       "</tr>\n",
       "</table>\n",
       "<table class=\"simpletable\">\n",
       "<caption>Roots</caption>\n",
       "<tr>\n",
       "    <td></td>   <th>            Real</th>  <th>         Imaginary</th> <th>         Modulus</th>  <th>        Frequency</th>\n",
       "</tr>\n",
       "<tr>\n",
       "  <th>AR.1</th> <td>          20.9727</td> <td>          +0.0000j</td> <td>          20.9727</td> <td>           0.0000</td>\n",
       "</tr>\n",
       "</table>"
      ],
      "text/plain": [
       "<class 'statsmodels.iolib.summary.Summary'>\n",
       "\"\"\"\n",
       "                             ARIMA Model Results                              \n",
       "==============================================================================\n",
       "Dep. Variable:                D.close   No. Observations:                   42\n",
       "Model:                 ARIMA(1, 1, 0)   Log Likelihood                -220.778\n",
       "Method:                       css-mle   S.D. of innovations             46.417\n",
       "Date:                Mon, 05 Apr 2021   AIC                            447.557\n",
       "Time:                        21:18:53   BIC                            452.770\n",
       "Sample:                             1   HQIC                           449.467\n",
       "                                                                              \n",
       "=================================================================================\n",
       "                    coef    std err          z      P>|z|      [0.025      0.975]\n",
       "---------------------------------------------------------------------------------\n",
       "const             7.6031      7.512      1.012      0.311      -7.120      22.326\n",
       "ar.L1.D.close     0.0477      0.152      0.313      0.754      -0.251       0.346\n",
       "                                    Roots                                    \n",
       "=============================================================================\n",
       "                  Real          Imaginary           Modulus         Frequency\n",
       "-----------------------------------------------------------------------------\n",
       "AR.1           20.9727           +0.0000j           20.9727            0.0000\n",
       "-----------------------------------------------------------------------------\n",
       "\"\"\""
      ]
     },
     "execution_count": 184,
     "metadata": {},
     "output_type": "execute_result"
    }
   ],
   "source": [
    "results.summary()"
   ]
  },
  {
   "cell_type": "code",
   "execution_count": 185,
   "metadata": {},
   "outputs": [],
   "source": [
    "forecasted = pd.DataFrame(results.forecast(steps=20)[0])"
   ]
  },
  {
   "cell_type": "code",
   "execution_count": 186,
   "metadata": {},
   "outputs": [],
   "source": [
    "tesla_test[\"forecasted\"] = np.array(forecasted)"
   ]
  },
  {
   "cell_type": "code",
   "execution_count": 187,
   "metadata": {},
   "outputs": [
    {
     "data": {
      "text/plain": [
       "<AxesSubplot:xlabel='time'>"
      ]
     },
     "execution_count": 187,
     "metadata": {},
     "output_type": "execute_result"
    },
    {
     "data": {
      "image/png": "[encoded data removed]",
      "text/plain": [
       "<Figure size 432x288 with 1 Axes>"
      ]
     },
     "metadata": {
      "needs_background": "light"
     },
     "output_type": "display_data"
    }
   ],
   "source": [
    "tesla_test[['close',\"forecasted\"]].plot()"
   ]
  },
  {
   "cell_type": "code",
   "execution_count": 188,
   "metadata": {},
   "outputs": [
    {
     "name": "stdout",
     "output_type": "stream",
     "text": [
      "Mean Absolute Error: 302.4256146959055\n",
      "Mean Squared Error: 107041.22994755562\n",
      "Root Mean Squared Error: 327.17156041984396\n"
     ]
    }
   ],
   "source": [
    "print(\"Mean Absolute Error:\", metrics.mean_absolute_error(tesla_test.close,tesla_test.forecasted))\n",
    "print(\"Mean Squared Error:\", metrics.mean_squared_error(tesla_test.close,tesla_test.forecasted))\n",
    "print(\"Root Mean Squared Error:\", np.sqrt(metrics.mean_squared_error(tesla_test.close,tesla_test.forecasted)))\n",
    "\n"
   ]
  },
  {
   "cell_type": "markdown",
   "metadata": {},
   "source": [
    "given 3 months of data we see that the model is not predictive"
   ]
  },
  {
   "cell_type": "code",
   "execution_count": 236,
   "metadata": {},
   "outputs": [],
   "source": [
    "#format current date as ISO format\n",
    "start = pd.Timestamp(\"2015-01-01\", tz=\"America/New_York\").isoformat()\n",
    "end_date = pd.Timestamp(\"2020-04-01\", tz=\"America/New_York\").isoformat()\n",
    "# Set timeframe to one day ('1D')for the Alpaca API\n",
    "\n",
    "timeframe = \"1D\"\n",
    "tickers= \"TSLA\"\n",
    "\n",
    "df = alpaca.get_barset(tickers, timeframe, start=start,end=end_date, limit=1000).df\n"
   ]
  },
  {
   "cell_type": "code",
   "execution_count": 234,
   "metadata": {},
   "outputs": [
    {
     "data": {
      "text/html": [
       "<div>\n",
       "<style scoped>\n",
       "    .dataframe tbody tr th:only-of-type {\n",
       "        vertical-align: middle;\n",
       "    }\n",
       "\n",
       "    .dataframe tbody tr th {\n",
       "        vertical-align: top;\n",
       "    }\n",
       "\n",
       "    .dataframe thead tr th {\n",
       "        text-align: left;\n",
       "    }\n",
       "\n",
       "    .dataframe thead tr:last-of-type th {\n",
       "        text-align: right;\n",
       "    }\n",
       "</style>\n",
       "<table border=\"1\" class=\"dataframe\">\n",
       "  <thead>\n",
       "    <tr>\n",
       "      <th></th>\n",
       "      <th colspan=\"5\" halign=\"left\">TSLA</th>\n",
       "    </tr>\n",
       "    <tr>\n",
       "      <th></th>\n",
       "      <th>open</th>\n",
       "      <th>high</th>\n",
       "      <th>low</th>\n",
       "      <th>close</th>\n",
       "      <th>volume</th>\n",
       "    </tr>\n",
       "    <tr>\n",
       "      <th>time</th>\n",
       "      <th></th>\n",
       "      <th></th>\n",
       "      <th></th>\n",
       "      <th></th>\n",
       "      <th></th>\n",
       "    </tr>\n",
       "  </thead>\n",
       "  <tbody>\n",
       "    <tr>\n",
       "      <th>2016-04-13 00:00:00-04:00</th>\n",
       "      <td>248.51</td>\n",
       "      <td>255.5000</td>\n",
       "      <td>247.3300</td>\n",
       "      <td>254.53</td>\n",
       "      <td>4180730</td>\n",
       "    </tr>\n",
       "    <tr>\n",
       "      <th>2016-04-14 00:00:00-04:00</th>\n",
       "      <td>253.00</td>\n",
       "      <td>256.8390</td>\n",
       "      <td>251.0501</td>\n",
       "      <td>251.84</td>\n",
       "      <td>3507893</td>\n",
       "    </tr>\n",
       "    <tr>\n",
       "      <th>2016-04-15 00:00:00-04:00</th>\n",
       "      <td>251.31</td>\n",
       "      <td>254.6000</td>\n",
       "      <td>249.1200</td>\n",
       "      <td>254.45</td>\n",
       "      <td>3077318</td>\n",
       "    </tr>\n",
       "    <tr>\n",
       "      <th>2016-04-18 00:00:00-04:00</th>\n",
       "      <td>252.23</td>\n",
       "      <td>258.3100</td>\n",
       "      <td>251.6600</td>\n",
       "      <td>253.87</td>\n",
       "      <td>3632034</td>\n",
       "    </tr>\n",
       "    <tr>\n",
       "      <th>2016-04-19 00:00:00-04:00</th>\n",
       "      <td>253.12</td>\n",
       "      <td>254.3699</td>\n",
       "      <td>241.2510</td>\n",
       "      <td>247.37</td>\n",
       "      <td>5323758</td>\n",
       "    </tr>\n",
       "    <tr>\n",
       "      <th>...</th>\n",
       "      <td>...</td>\n",
       "      <td>...</td>\n",
       "      <td>...</td>\n",
       "      <td>...</td>\n",
       "      <td>...</td>\n",
       "    </tr>\n",
       "    <tr>\n",
       "      <th>2020-03-26 00:00:00-04:00</th>\n",
       "      <td>547.39</td>\n",
       "      <td>560.0000</td>\n",
       "      <td>512.2500</td>\n",
       "      <td>528.05</td>\n",
       "      <td>16688863</td>\n",
       "    </tr>\n",
       "    <tr>\n",
       "      <th>2020-03-27 00:00:00-04:00</th>\n",
       "      <td>505.00</td>\n",
       "      <td>525.8000</td>\n",
       "      <td>494.0300</td>\n",
       "      <td>514.56</td>\n",
       "      <td>13608376</td>\n",
       "    </tr>\n",
       "    <tr>\n",
       "      <th>2020-03-30 00:00:00-04:00</th>\n",
       "      <td>510.26</td>\n",
       "      <td>516.6471</td>\n",
       "      <td>491.2300</td>\n",
       "      <td>502.10</td>\n",
       "      <td>11162231</td>\n",
       "    </tr>\n",
       "    <tr>\n",
       "      <th>2020-03-31 00:00:00-04:00</th>\n",
       "      <td>501.25</td>\n",
       "      <td>542.9600</td>\n",
       "      <td>497.0000</td>\n",
       "      <td>524.48</td>\n",
       "      <td>16421035</td>\n",
       "    </tr>\n",
       "    <tr>\n",
       "      <th>2020-04-01 00:00:00-04:00</th>\n",
       "      <td>504.00</td>\n",
       "      <td>513.9548</td>\n",
       "      <td>475.1000</td>\n",
       "      <td>481.58</td>\n",
       "      <td>12570750</td>\n",
       "    </tr>\n",
       "  </tbody>\n",
       "</table>\n",
       "<p>1000 rows × 5 columns</p>\n",
       "</div>"
      ],
      "text/plain": [
       "                             TSLA                                      \n",
       "                             open      high       low   close    volume\n",
       "time                                                                   \n",
       "2016-04-13 00:00:00-04:00  248.51  255.5000  247.3300  254.53   4180730\n",
       "2016-04-14 00:00:00-04:00  253.00  256.8390  251.0501  251.84   3507893\n",
       "2016-04-15 00:00:00-04:00  251.31  254.6000  249.1200  254.45   3077318\n",
       "2016-04-18 00:00:00-04:00  252.23  258.3100  251.6600  253.87   3632034\n",
       "2016-04-19 00:00:00-04:00  253.12  254.3699  241.2510  247.37   5323758\n",
       "...                           ...       ...       ...     ...       ...\n",
       "2020-03-26 00:00:00-04:00  547.39  560.0000  512.2500  528.05  16688863\n",
       "2020-03-27 00:00:00-04:00  505.00  525.8000  494.0300  514.56  13608376\n",
       "2020-03-30 00:00:00-04:00  510.26  516.6471  491.2300  502.10  11162231\n",
       "2020-03-31 00:00:00-04:00  501.25  542.9600  497.0000  524.48  16421035\n",
       "2020-04-01 00:00:00-04:00  504.00  513.9548  475.1000  481.58  12570750\n",
       "\n",
       "[1000 rows x 5 columns]"
      ]
     },
     "execution_count": 234,
     "metadata": {},
     "output_type": "execute_result"
    }
   ],
   "source": [
    "df"
   ]
  },
  {
   "cell_type": "code",
   "execution_count": 260,
   "metadata": {},
   "outputs": [
    {
     "data": {
      "text/plain": [
       "<AxesSubplot:xlabel='time'>"
      ]
     },
     "execution_count": 260,
     "metadata": {},
     "output_type": "execute_result"
    },
    {
     "data": {
      "image/png": "[encoded data removed]",
      "text/plain": [
       "<Figure size 432x288 with 1 Axes>"
      ]
     },
     "metadata": {
      "needs_background": "light"
     },
     "output_type": "display_data"
    },
    {
     "data": {
      "image/png": "[encoded data removed]",
      "text/plain": [
       "<Figure size 432x288 with 1 Axes>"
      ]
     },
     "metadata": {
      "needs_background": "light"
     },
     "output_type": "display_data"
    }
   ],
   "source": [
    "tesla = df.xs('TSLA', axis=1)\n",
    "plt.figure()\n",
    "lag_plot(tesla[\"close\"], lag=4)\n",
    "tesla_test = tesla.iloc[-250:]\n",
    "tesla_train = tesla.iloc[:-250]\n",
    "model = ARIMA(tesla_train[\"close\"],order=(4, 1, 0))\n",
    "results = model.fit()\n",
    "results.summary()\n",
    "forecasted = pd.DataFrame(results.forecast(steps=250)[0])\n",
    "tesla_test[\"forecasted\"] = np.array(forecasted)\n",
    "tesla_test[['close',\"forecasted\"]].plot()\n"
   ]
  },
  {
   "cell_type": "code",
   "execution_count": 261,
   "metadata": {},
   "outputs": [
    {
     "name": "stdout",
     "output_type": "stream",
     "text": [
      "Mean Absolute Error: 122.78575957065117\n",
      "Mean Squared Error: 37982.24257657151\n",
      "Root Mean Squared Error: 194.8903347438541\n"
     ]
    }
   ],
   "source": [
    "print(\"Mean Absolute Error:\", metrics.mean_absolute_error(tesla_test.close,tesla_test.forecasted))\n",
    "print(\"Mean Squared Error:\", metrics.mean_squared_error(tesla_test.close,tesla_test.forecasted))\n",
    "print(\"Root Mean Squared Error:\", np.sqrt(metrics.mean_squared_error(tesla_test.close,tesla_test.forecasted)))\n",
    "\n",
    "\n"
   ]
  },
  {
   "cell_type": "markdown",
   "metadata": {},
   "source": [
    "One model is not very precitive, instead we will build a model for each time point and see how much better we see the values"
   ]
  },
  {
   "cell_type": "code",
   "execution_count": 250,
   "metadata": {},
   "outputs": [],
   "source": [
    "train_data, test_data = tesla[0:700], tesla[700:]\n",
    "training_data = train_data[\"close\"].values\n",
    "test_data = test_data['close'].values\n",
    "history = [x for x in training_data]\n",
    "model_pred = []\n",
    "N_obs = len(test_data)\n",
    "\n"
   ]
  },
  {
   "cell_type": "code",
   "execution_count": 251,
   "metadata": {},
   "outputs": [],
   "source": [
    "for timepoint in range(N_obs):\n",
    "    model = ARIMA(history, order=(4,1,0))\n",
    "    fit = model.fit()\n",
    "    output = fit.forecast()\n",
    "    pred = output[0]\n",
    "    model_pred.append(pred)\n",
    "    true_test_value = test_data[timepoint]\n",
    "    history.append(true_test_value)\n"
   ]
  },
  {
   "cell_type": "code",
   "execution_count": 255,
   "metadata": {},
   "outputs": [],
   "source": [
    "test_set_range = df[700:].index"
   ]
  },
  {
   "cell_type": "code",
   "execution_count": 258,
   "metadata": {},
   "outputs": [
    {
     "data": {
      "text/plain": [
       "[<matplotlib.lines.Line2D at 0x7fc3882c1430>]"
      ]
     },
     "execution_count": 258,
     "metadata": {},
     "output_type": "execute_result"
    },
    {
     "data": {
      "image/png": "[encoded data removed]",
      "text/plain": [
       "<Figure size 432x288 with 1 Axes>"
      ]
     },
     "metadata": {
      "needs_background": "light"
     },
     "output_type": "display_data"
    }
   ],
   "source": [
    "plt.plot(test_set_range,test_data, label=\"Actual\", color = 'red')\n",
    "plt.plot(test_set_range,model_pred, color=\"blue\")\n"
   ]
  },
  {
   "cell_type": "markdown",
   "metadata": {},
   "source": [
    "we see an almost perfect model which is a very exciting"
   ]
  },
  {
   "cell_type": "code",
   "execution_count": 263,
   "metadata": {},
   "outputs": [
    {
     "name": "stdout",
     "output_type": "stream",
     "text": [
      "Mean Absolute Error: 11.41702759398021\n",
      "Mean Squared Error: 570.5370709600535\n",
      "Root Mean Squared Error: 23.885917837923948\n"
     ]
    }
   ],
   "source": [
    "print(\"Mean Absolute Error:\", metrics.mean_absolute_error(test_data,model_pred))\n",
    "print(\"Mean Squared Error:\", metrics.mean_squared_error(test_data,model_pred))\n",
    "print(\"Root Mean Squared Error:\", np.sqrt(metrics.mean_squared_error(test_data,model_pred)))\n",
    "\n",
    "\n"
   ]
  }
 ],
 "metadata": {
  "kernelspec": {
   "display_name": "Python 3",
   "language": "python",
   "name": "python3"
  },
  "language_info": {
   "codemirror_mode": {
    "name": "ipython",
    "version": 3
   },
   "file_extension": ".py",
   "mimetype": "text/x-python",
   "name": "python",
   "nbconvert_exporter": "python",
   "pygments_lexer": "ipython3",
   "version": "3.7.9"
  }
 },
 "nbformat": 4,
 "nbformat_minor": 5
}
